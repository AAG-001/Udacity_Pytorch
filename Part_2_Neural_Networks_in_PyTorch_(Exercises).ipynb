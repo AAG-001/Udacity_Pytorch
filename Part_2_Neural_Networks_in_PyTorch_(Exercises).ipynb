{
  "nbformat": 4,
  "nbformat_minor": 0,
  "metadata": {
    "kernelspec": {
      "display_name": "Python [default]",
      "language": "python",
      "name": "python3"
    },
    "language_info": {
      "codemirror_mode": {
        "name": "ipython",
        "version": 3
      },
      "file_extension": ".py",
      "mimetype": "text/x-python",
      "name": "python",
      "nbconvert_exporter": "python",
      "pygments_lexer": "ipython3",
      "version": "3.6.4"
    },
    "colab": {
      "name": "Part_2_Neural_Networks_in_PyTorch_(Exercises).ipynb",
      "provenance": [],
      "include_colab_link": true
    }
  },
  "cells": [
    {
      "cell_type": "markdown",
      "metadata": {
        "id": "view-in-github",
        "colab_type": "text"
      },
      "source": [
        "<a href=\"https://colab.research.google.com/github/AAG-001/Udacity_Pytorch/blob/master/Part_2_Neural_Networks_in_PyTorch_(Exercises).ipynb\" target=\"_parent\"><img src=\"https://colab.research.google.com/assets/colab-badge.svg\" alt=\"Open In Colab\"/></a>"
      ]
    },
    {
      "cell_type": "markdown",
      "metadata": {
        "id": "kolqp3Q96mC3",
        "colab_type": "text"
      },
      "source": [
        "# Neural networks with PyTorch\n",
        "\n",
        "Deep learning networks tend to be massive with dozens or hundreds of layers, that's where the term \"deep\" comes from. You can build one of these deep networks using only weight matrices as we did in the previous notebook, but in general it's very cumbersome and difficult to implement. PyTorch has a nice module `nn` that provides a nice way to efficiently build large neural networks."
      ]
    },
    {
      "cell_type": "code",
      "metadata": {
        "id": "y3x98ZWa6mC6",
        "colab_type": "code",
        "colab": {}
      },
      "source": [
        "# Import necessary packages\n",
        "\n",
        "%matplotlib inline\n",
        "%config InlineBackend.figure_format = 'retina'\n",
        "\n",
        "import numpy as np\n",
        "import torch\n",
        "\n",
        "import helper\n",
        "\n",
        "import matplotlib.pyplot as plt"
      ],
      "execution_count": 0,
      "outputs": []
    },
    {
      "cell_type": "markdown",
      "metadata": {
        "id": "nEKkzc0x6mDA",
        "colab_type": "text"
      },
      "source": [
        "\n",
        "Now we're going to build a larger network that can solve a (formerly) difficult problem, identifying text in an image. Here we'll use the MNIST dataset which consists of greyscale handwritten digits. Each image is 28x28 pixels, you can see a sample below\n",
        "\n",
        "<img src='https://github.com/udacity/deep-learning-v2-pytorch/blob/master/intro-to-pytorch/assets/mnist.png?raw=1'>\n",
        "\n",
        "Our goal is to build a neural network that can take one of these images and predict the digit in the image.\n",
        "\n",
        "First up, we need to get our dataset. This is provided through the `torchvision` package. The code below will download the MNIST dataset, then create training and test datasets for us. Don't worry too much about the details here, you'll learn more about this later."
      ]
    },
    {
      "cell_type": "code",
      "metadata": {
        "id": "x7j2t99_6mDC",
        "colab_type": "code",
        "colab": {}
      },
      "source": [
        "### Run this cell\n",
        "\n",
        "from torchvision import datasets, transforms\n",
        "\n",
        "# Define a transform to normalize the data\n",
        "transform = transforms.Compose([transforms.ToTensor(),\n",
        "                              transforms.Normalize((0.5,), (0.5,)),\n",
        "                              ])\n",
        "\n",
        "# Download and load the training data\n",
        "trainset = datasets.MNIST('~/.pytorch/MNIST_data/', download=True, train=True, transform=transform)\n",
        "trainloader = torch.utils.data.DataLoader(trainset, batch_size=64, shuffle=True)"
      ],
      "execution_count": 0,
      "outputs": []
    },
    {
      "cell_type": "markdown",
      "metadata": {
        "id": "dIntPvi96mDF",
        "colab_type": "text"
      },
      "source": [
        "We have the training data loaded into `trainloader` and we make that an iterator with `iter(trainloader)`. Later, we'll use this to loop through the dataset for training, like\n",
        "\n",
        "```python\n",
        "for image, label in trainloader:\n",
        "    ## do things with images and labels\n",
        "```\n",
        "\n",
        "You'll notice I created the `trainloader` with a batch size of 64, and `shuffle=True`. The batch size is the number of images we get in one iteration from the data loader and pass through our network, often called a *batch*. And `shuffle=True` tells it to shuffle the dataset every time we start going through the data loader again. But here I'm just grabbing the first batch so we can check out the data. We can see below that `images` is just a tensor with size `(64, 1, 28, 28)`. So, 64 images per batch, 1 color channel, and 28x28 images."
      ]
    },
    {
      "cell_type": "code",
      "metadata": {
        "id": "l43ceUx-6mDG",
        "colab_type": "code",
        "outputId": "c665be24-06e3-47dc-e29c-3f10fbd5d4e0",
        "colab": {
          "base_uri": "https://localhost:8080/",
          "height": 68
        }
      },
      "source": [
        "dataiter = iter(trainloader)\n",
        "images, labels = dataiter.next()\n",
        "print(type(images))\n",
        "print(images.shape)\n",
        "print(labels.shape)"
      ],
      "execution_count": 0,
      "outputs": [
        {
          "output_type": "stream",
          "text": [
            "<class 'torch.Tensor'>\n",
            "torch.Size([64, 1, 28, 28])\n",
            "torch.Size([64])\n"
          ],
          "name": "stdout"
        }
      ]
    },
    {
      "cell_type": "markdown",
      "metadata": {
        "id": "vZwIPVa36mDJ",
        "colab_type": "text"
      },
      "source": [
        "This is what one of the images looks like. "
      ]
    },
    {
      "cell_type": "code",
      "metadata": {
        "id": "-XzIiIbr6mDJ",
        "colab_type": "code",
        "outputId": "7e8734c5-a6dd-468d-fc02-33b4aa6658a8",
        "colab": {
          "base_uri": "https://localhost:8080/",
          "height": 265
        }
      },
      "source": [
        "plt.imshow(images[1].numpy().squeeze(), cmap='Greys_r');"
      ],
      "execution_count": 0,
      "outputs": [
        {
          "output_type": "display_data",
          "data": {
            "image/png": "[encoded data removed]",
            "text/plain": [
              "<Figure size 432x288 with 1 Axes>"
            ]
          },
          "metadata": {
            "tags": [],
            "image/png": {
              "width": 251,
              "height": 248
            }
          }
        }
      ]
    },
    {
      "cell_type": "markdown",
      "metadata": {
        "id": "NECNUB6w6mDM",
        "colab_type": "text"
      },
      "source": [
        "First, let's try to build a simple network for this dataset using weight matrices and matrix multiplications. Then, we'll see how to do it using PyTorch's `nn` module which provides a much more convenient and powerful method for defining network architectures.\n",
        "\n",
        "The networks you've seen so far are called *fully-connected* or *dense* networks. Each unit in one layer is connected to each unit in the next layer. In fully-connected networks, the input to each layer must be a one-dimensional vector (which can be stacked into a 2D tensor as a batch of multiple examples). However, our images are 28x28 2D tensors, so we need to convert them into 1D vectors. Thinking about sizes, we need to convert the batch of images with shape `(64, 1, 28, 28)` to a have a shape of `(64, 784)`, 784 is 28 times 28. This is typically called *flattening*, we flattened the 2D images into 1D vectors.\n",
        "\n",
        "Previously you built a network with one output unit. Here we need 10 output units, one for each digit. We want our network to predict the digit shown in an image, so what we'll do is calculate probabilities that the image is of any one digit or class. This ends up being a discrete probability distribution over the classes (digits) that tells us the most likely class for the image. That means we need 10 output units for the 10 classes (digits). We'll see how to convert the network output into a probability distribution next.\n",
        "\n",
        "> **Exercise:** Flatten the batch of images `images`. Then build a multi-layer network with 784 input units, 256 hidden units, and 10 output units using random tensors for the weights and biases. For now, use a sigmoid activation for the hidden layer. Leave the output layer without an activation, we'll add one that gives us a probability distribution next."
      ]
    },
    {
      "cell_type": "code",
      "metadata": {
        "id": "JkuzSPyC6mDN",
        "colab_type": "code",
        "outputId": "12aec90a-f86f-4117-b840-7a0d078e8ed3",
        "colab": {
          "base_uri": "https://localhost:8080/",
          "height": 1000
        }
      },
      "source": [
        "## Your solution\n",
        "\n",
        "def activation(x):\n",
        "  #Sigmoid activation function\n",
        "  return 1/(1+torch.exp(-x))\n",
        "  \n",
        "print(images.shape[0])\n",
        "#direct flatenning of images\n",
        "features= images.view(images.shape[0],-1)\n",
        "\n",
        "\n",
        "n_input=784          #number of input units \n",
        "n_hidden=256          #number of hidden units\n",
        "n_output=10           #number of output units\n",
        "\n",
        "# Weights for inputs to hidden layer\n",
        "W1 = torch.randn(n_input, n_hidden)\n",
        "#W1 = torch.randn(784, 256)\n",
        "\n",
        "# Weights for hidden layer to output layer\n",
        "W2 = torch.randn(n_hidden, n_output)\n",
        "#W2 = torch.randn(256, 10)\n",
        "\n",
        "# and bias terms for hidden and output layers\n",
        "B1 = torch.randn((1, n_hidden))\n",
        "#B1 = torch.randn(256)\n",
        "\n",
        "B2 = torch.randn((1, n_output))\n",
        "#B2 = torch.randn((10)\n",
        "\n",
        "#hidden layer\n",
        "h=activation(torch.mm(features,W1)+B1)\n",
        "\n",
        "\n",
        "out = torch.mm(h,W2)+B2       \n",
        "# output of your network, should have shape (64,10)\n",
        "\n",
        "print(out)"
      ],
      "execution_count": 0,
      "outputs": [
        {
          "output_type": "stream",
          "text": [
            "64\n",
            "tensor([[ 1.4570e+01,  1.3458e+01, -2.4869e+00,  1.9243e+01, -6.7239e+00,\n",
            "          6.2174e-01,  1.3686e+01, -4.4832e+00,  1.6149e+01, -2.0186e+01],\n",
            "        [ 8.8459e+00,  9.1374e+00,  9.6829e-02,  1.6634e+01, -1.0860e+01,\n",
            "          4.0343e+00,  1.2288e+01, -9.5311e+00,  9.3223e+00, -1.5248e+01],\n",
            "        [ 4.9173e+00,  1.1019e+01, -4.5961e+00,  1.9073e+01, -1.4529e+01,\n",
            "         -5.5546e+00,  1.0960e+01, -1.0818e+01,  8.1051e+00, -1.3980e+01],\n",
            "        [ 9.4027e+00,  6.6324e+00, -1.0789e+00,  1.6381e+01, -1.6778e+01,\n",
            "         -5.2896e+00,  1.1991e+01, -9.0052e+00,  7.3606e+00, -1.4942e+01],\n",
            "        [ 1.3269e+01,  1.3147e+01, -5.3640e+00,  1.3239e+01, -1.4277e+01,\n",
            "         -1.1649e-01,  2.2442e+00, -8.7218e+00,  1.4804e+01, -1.6748e+01],\n",
            "        [ 5.3391e+00,  1.3474e+01,  6.5128e+00,  1.4643e+01, -7.4226e+00,\n",
            "          6.3671e+00,  4.1364e+00, -1.4030e+01,  1.4258e+01, -1.4700e+01],\n",
            "        [ 8.8271e+00,  1.6582e+01, -1.1737e+01,  1.6302e+01, -1.0880e+01,\n",
            "         -4.5653e-01,  8.9001e+00, -2.0229e+00,  1.8832e+01, -1.6488e+01],\n",
            "        [ 5.0350e+00,  1.0533e+01,  6.3829e+00,  8.3029e+00, -7.4727e+00,\n",
            "          6.9239e+00,  8.3063e+00, -1.3012e+01,  1.1322e+01, -1.3591e+01],\n",
            "        [ 4.1839e+00,  1.1347e+01, -9.0330e+00,  9.0392e+00, -1.7665e+01,\n",
            "         -6.7063e+00,  1.1296e+01, -8.7491e+00,  9.3127e+00, -1.6884e+01],\n",
            "        [ 1.2418e+01,  1.3019e-01, -5.6275e+00,  7.0461e+00, -1.6611e+01,\n",
            "         -4.4766e+00,  8.8645e+00, -6.4935e+00,  1.2983e+01, -1.5908e+01],\n",
            "        [ 5.9455e+00,  1.0498e+01, -1.0084e+01,  2.1162e+01, -1.2819e+01,\n",
            "         -1.6786e+00,  8.4987e+00, -6.2889e+00,  1.3174e+01, -9.3783e+00],\n",
            "        [ 2.2029e-01,  1.1822e+01, -1.0939e+00,  2.2023e+01, -1.4849e+01,\n",
            "         -5.2173e+00,  1.1847e+01, -2.0694e+01,  1.2181e+01, -1.3584e+01],\n",
            "        [ 1.1590e+01,  9.7828e+00, -9.4820e+00,  1.7975e+01, -1.4661e+01,\n",
            "         -3.9231e+00,  1.3128e+01, -1.5911e+01,  1.2941e+01, -1.5534e+01],\n",
            "        [ 1.3181e+01,  1.6908e+00,  9.1355e+00,  1.1715e+01, -1.8207e+00,\n",
            "          7.0516e-01,  1.3561e+01, -3.6222e+00,  1.3119e+01, -2.1527e+01],\n",
            "        [ 5.3619e+00,  1.5230e+01, -5.1987e-01,  1.1599e+01, -7.4658e+00,\n",
            "          3.5618e+00,  7.7454e+00, -1.0395e+01,  1.1089e+01, -1.8001e+01],\n",
            "        [ 3.6486e+00, -1.7527e+00,  6.3303e+00,  2.8625e+01, -1.1578e+01,\n",
            "         -1.0719e+01,  1.4038e+01, -8.2682e+00,  1.1662e+01, -2.1267e+01],\n",
            "        [-1.3471e+00,  4.8315e+00,  9.7539e-01,  1.8006e+01, -1.1570e+01,\n",
            "         -1.1316e+00,  1.4868e+01, -1.0267e+01,  1.4778e+01, -1.3543e+01],\n",
            "        [ 1.1895e+01,  4.6164e+00,  3.4539e-01,  6.8676e+00, -8.7675e+00,\n",
            "         -3.5913e+00,  6.9474e+00, -8.4731e+00,  2.2466e+01, -1.5860e+01],\n",
            "        [ 1.8019e+01,  9.0765e+00,  7.9685e-01,  6.8426e+00, -1.1512e+01,\n",
            "          1.7184e+00, -1.3102e+00, -6.8190e+00,  4.1725e+00, -1.4326e+01],\n",
            "        [ 9.3830e-02,  1.5406e+01,  4.8380e+00,  2.0716e+01, -1.2195e+01,\n",
            "          3.4584e+00,  2.5187e+00, -1.4184e+01,  1.1776e+01, -1.3679e+01],\n",
            "        [-3.3871e+00,  1.9762e+01,  3.1203e+00,  2.3309e+01, -1.0897e+01,\n",
            "          7.0440e+00,  2.9348e+00, -1.0352e+01,  1.7187e+01, -1.0365e+01],\n",
            "        [ 1.1474e+01,  2.6152e+00, -3.8215e+00,  1.1563e+01, -1.1643e+01,\n",
            "         -1.3602e+01,  1.1040e+01, -3.2643e+00,  1.8446e+01, -1.7807e+01],\n",
            "        [ 5.9520e+00, -1.0806e+00, -5.7413e+00,  1.4446e+01, -1.0743e+01,\n",
            "         -1.4847e+01,  1.1192e+01, -1.1045e+01,  9.6877e-01, -1.3004e+01],\n",
            "        [ 7.4780e+00,  1.3532e+01, -8.5586e+00,  2.2058e+01, -2.0611e+01,\n",
            "         -1.6215e+00,  4.2506e+00, -5.0035e+00,  1.5508e+01, -1.8126e+01],\n",
            "        [ 1.0131e+01,  4.4282e+00, -2.1739e+00,  8.2253e+00, -6.1305e+00,\n",
            "         -6.3940e+00,  1.1165e+01, -5.9597e+00,  1.1967e+01, -1.5509e+01],\n",
            "        [ 2.7328e+00,  8.9023e+00,  5.8469e+00,  1.9310e+01, -4.6474e+00,\n",
            "          2.4905e+00,  1.0281e+01, -8.4489e+00,  9.5401e+00, -1.7434e+01],\n",
            "        [ 1.1116e+01,  7.8256e+00,  5.0597e-01,  1.3871e+01, -1.5650e+01,\n",
            "         -7.8324e+00,  5.6455e+00, -1.3236e+01,  9.6230e+00, -1.4303e+01],\n",
            "        [ 1.7648e+01,  1.4634e+00, -5.8114e+00,  8.7514e+00, -3.9295e+00,\n",
            "         -4.4953e+00,  1.2384e+01, -4.5529e+00,  1.5041e+01, -1.8157e+01],\n",
            "        [ 2.5852e+00,  1.8906e+00, -3.7824e+00,  1.4153e+01, -1.0383e+01,\n",
            "         -3.3878e+00,  1.4798e+01, -1.1804e+01,  8.1044e+00, -2.2649e+01],\n",
            "        [ 6.6712e+00,  1.1910e+01,  7.6009e-01,  1.1625e+01, -1.0755e+01,\n",
            "          1.8373e-02,  6.7267e+00, -6.1409e+00,  1.1237e+01, -1.7852e+01],\n",
            "        [ 8.5241e+00,  1.1207e+01,  3.4827e+00,  1.2489e+01, -6.8747e+00,\n",
            "          4.9907e+00,  6.1999e+00, -1.0379e+01,  1.7734e+01, -7.6536e+00],\n",
            "        [ 1.6174e+01,  8.7513e+00,  2.1481e+00,  1.8872e+01, -1.7453e+00,\n",
            "          4.1196e+00,  8.1983e+00, -4.0980e+00,  1.8609e+01, -1.6893e+01],\n",
            "        [ 1.0188e+01,  1.5211e+01,  1.6328e+00,  8.7994e+00, -1.1994e+01,\n",
            "         -5.9680e+00,  1.3500e+01, -1.1559e+01,  1.8576e+01, -2.4456e+01],\n",
            "        [ 8.3899e+00,  7.3894e+00,  4.0429e+00,  1.7919e+01,  7.3938e-02,\n",
            "          4.3190e+00,  5.1351e+00, -1.8400e+01,  1.3707e+01, -1.4415e+01],\n",
            "        [ 2.3368e+01,  1.2911e+01, -1.3612e+01,  1.8073e+01, -5.9607e+00,\n",
            "         -6.0900e-02,  6.8448e+00,  1.7881e+00,  1.6208e+01, -1.4983e+01],\n",
            "        [ 1.9348e+01,  1.3354e+01, -6.0566e+00,  1.9222e+01, -1.1911e+01,\n",
            "          5.0389e+00,  7.8966e+00, -4.9986e+00,  1.3520e+01, -1.9973e+01],\n",
            "        [ 8.9096e+00,  9.4246e+00, -4.2009e+00,  1.8179e+01, -1.4673e+01,\n",
            "         -3.7246e+00,  5.1694e+00, -1.2379e+01,  1.5364e+01, -1.5863e+01],\n",
            "        [ 5.2093e+00,  1.4077e+01,  2.9306e+00,  1.2223e+01, -8.6524e+00,\n",
            "         -2.1275e+00,  1.0815e+01, -1.5800e+01,  1.5380e+01, -1.4428e+01],\n",
            "        [ 3.7062e+00,  1.0414e+01,  2.9843e+00,  1.0248e+01, -1.6577e+01,\n",
            "          1.2734e+00,  1.0829e+01, -1.1146e+01,  1.3354e+01, -1.5960e+01],\n",
            "        [ 3.9486e+00,  2.1401e+00,  8.1798e-01,  1.5770e+01, -1.0142e+01,\n",
            "         -2.8882e+00,  8.4865e+00, -1.1303e+01,  9.8820e+00, -1.2925e+01],\n",
            "        [ 4.9975e+00,  1.6420e+01,  6.9810e-01,  1.3644e+01, -1.3964e+01,\n",
            "         -3.1704e+00,  1.3539e+00, -1.3832e+01,  2.1173e+01, -1.4596e+01],\n",
            "        [ 3.7444e+00,  7.6940e-01,  4.9663e-01,  1.6691e+01, -1.5583e+01,\n",
            "          4.8147e-01,  3.9655e+00, -1.2019e+01,  3.6996e+00, -5.8569e+00],\n",
            "        [ 1.0993e+01,  5.9049e+00,  2.0130e+00,  1.1582e+01, -3.0019e+00,\n",
            "         -2.6494e+00,  8.9626e+00, -7.4639e+00,  1.2012e+01, -1.9377e+01],\n",
            "        [-1.9161e+00,  1.0805e+01,  3.0874e+00,  5.9224e+00, -1.4196e+01,\n",
            "          2.3860e-02,  3.6843e+00, -9.0558e+00,  9.7787e+00, -1.4073e+01],\n",
            "        [ 1.3286e+01,  1.3986e+01,  3.2870e+00,  1.8879e+01, -6.9324e+00,\n",
            "         -4.5331e-01,  4.8587e+00, -5.7149e+00,  1.3910e+01, -1.2088e+01],\n",
            "        [ 4.5365e+00,  1.0014e+01,  1.0715e+01,  2.1998e+01, -1.0219e+01,\n",
            "          5.4457e+00,  1.1016e+01, -1.8127e+01,  1.0855e+01, -1.0904e+01],\n",
            "        [ 5.1792e+00,  7.7508e+00, -5.2359e+00,  1.4314e+01, -2.3496e+01,\n",
            "         -8.3370e+00,  1.4006e+01, -1.3379e+01,  1.2220e+01, -1.8857e+01],\n",
            "        [ 1.5239e+01,  1.1167e+01, -7.2267e+00,  1.8770e+01, -7.5309e+00,\n",
            "         -5.9670e+00,  1.4328e+01, -1.8907e+00,  1.6705e+01, -1.9595e+01],\n",
            "        [ 1.1643e+01,  6.3738e+00, -6.8812e+00,  9.4926e+00, -5.2111e+00,\n",
            "         -2.5695e+00,  1.1858e+01, -6.0689e+00,  1.6150e-01, -2.2326e+01],\n",
            "        [ 1.2809e+01, -4.9460e+00,  5.8586e-01,  1.4954e+01, -8.5097e+00,\n",
            "         -1.1378e+01,  7.9310e+00, -4.6778e+00,  6.4669e+00, -2.7601e+01],\n",
            "        [ 7.5712e+00,  1.1092e+01, -8.6636e+00,  6.1928e+00, -8.0817e+00,\n",
            "         -6.4215e+00,  1.0132e+01, -2.0610e+01,  1.2452e+01, -2.3484e+01],\n",
            "        [ 9.8318e+00,  1.6627e+01, -4.7020e+00,  1.0063e+01, -9.7361e+00,\n",
            "          3.7109e+00,  8.4194e+00, -2.5910e+00,  1.4320e+01, -2.1956e+01],\n",
            "        [-1.0359e+00,  3.8206e+00, -4.0816e-01,  1.5192e+01, -1.5365e+01,\n",
            "         -1.0714e+01,  3.2066e+00, -1.3583e+01,  1.4033e+01, -1.6658e+01],\n",
            "        [ 9.6775e+00,  1.7276e+01, -6.4583e+00,  2.8706e+01, -1.1609e+01,\n",
            "         -7.0294e+00,  1.0780e+01, -1.2004e+01,  1.0232e+01, -1.5954e+01],\n",
            "        [ 1.0397e+01,  1.4856e+01, -9.5884e-01,  1.5925e+01, -7.7977e+00,\n",
            "         -3.6889e+00,  4.4030e+00, -1.1450e+01,  1.1100e+01, -5.7617e+00],\n",
            "        [ 3.4268e+00,  2.6675e+00, -6.5064e+00,  1.2690e+01, -8.1442e+00,\n",
            "          4.2632e+00,  7.0451e+00, -9.0211e+00,  8.3086e+00, -1.4918e+01],\n",
            "        [ 1.2441e+01,  1.3738e+01, -6.6524e+00,  1.7735e+01, -6.0096e+00,\n",
            "          5.7346e-01,  1.2876e+01, -1.1878e+01,  5.0284e+00, -2.0109e+01],\n",
            "        [ 1.6239e+01,  8.3685e+00, -3.6283e-03,  1.2059e+01, -3.1834e+00,\n",
            "         -4.4035e+00,  1.3929e+01, -4.6971e+00,  1.5208e+01, -1.8428e+01],\n",
            "        [ 1.2845e+01,  6.8235e+00, -2.4399e+00,  1.1753e+01, -1.2881e+01,\n",
            "         -1.6354e+00,  1.7186e+01, -1.3779e+01,  8.9679e+00, -1.9614e+01],\n",
            "        [ 1.4579e+01,  3.0546e+00, -6.1904e+00,  2.0521e+01, -1.4258e+01,\n",
            "          8.2289e+00,  8.9373e+00, -4.1662e+00,  1.0849e+01, -1.8372e+01],\n",
            "        [ 1.3737e+01,  1.2161e+01,  4.5742e+00,  1.1989e+01, -3.7876e+00,\n",
            "          2.7262e+00,  1.3463e+00, -1.2447e+01,  1.0094e+01, -1.6079e+01],\n",
            "        [ 8.3794e+00,  1.0760e+01, -4.7591e+00,  2.3853e+01, -1.0069e+01,\n",
            "          4.0692e+00,  1.1143e+01, -3.4708e+00,  9.6821e+00, -1.6984e+01],\n",
            "        [ 7.0641e+00, -5.5032e+00, -3.3781e+00,  1.3030e+01, -1.0934e+01,\n",
            "         -1.7076e+01,  1.0938e+01, -9.2280e+00,  1.1528e+01, -2.0119e+01],\n",
            "        [ 9.6683e+00,  6.2211e+00, -3.7983e+00,  1.8404e+01, -5.1330e+00,\n",
            "         -1.9317e+00,  8.8779e+00, -9.4569e+00,  1.4978e+01, -1.3750e+01]])\n"
          ],
          "name": "stdout"
        }
      ]
    },
    {
      "cell_type": "markdown",
      "metadata": {
        "id": "rwtTUh7v6mDQ",
        "colab_type": "text"
      },
      "source": [
        "Now we have 10 outputs for our network. We want to pass in an image to our network and get out a probability distribution over the classes that tells us the likely class(es) the image belongs to. Something that looks like this:\n",
        "<img src='https://github.com/udacity/deep-learning-v2-pytorch/blob/master/intro-to-pytorch/assets/image_distribution.png?raw=1' width=500px>\n",
        "\n",
        "Here we see that the probability for each class is roughly the same. This is representing an untrained network, it hasn't seen any data yet so it just returns a uniform distribution with equal probabilities for each class.\n",
        "\n",
        "To calculate this probability distribution, we often use the [**softmax** function](https://en.wikipedia.org/wiki/Softmax_function). Mathematically this looks like\n",
        "\n",
        "$$\n",
        "\\Large \\sigma(x_i) = \\cfrac{e^{x_i}}{\\sum_k^K{e^{x_k}}}\n",
        "$$\n",
        "\n",
        "What this does is squish each input $x_i$ between 0 and 1 and normalizes the values to give you a proper probability distribution where the probabilites sum up to one.\n",
        "\n",
        "> **Exercise:** Implement a function `softmax` that performs the softmax calculation and returns probability distributions for each example in the batch. Note that you'll need to pay attention to the shapes when doing this. If you have a tensor `a` with shape `(64, 10)` and a tensor `b` with shape `(64,)`, doing `a/b` will give you an error because PyTorch will try to do the division across the columns (called broadcasting) but you'll get a size mismatch. The way to think about this is for each of the 64 examples, you only want to divide by one value, the sum in the denominator. So you need `b` to have a shape of `(64, 1)`. This way PyTorch will divide the 10 values in each row of `a` by the one value in each row of `b`. Pay attention to how you take the sum as well. You'll need to define the `dim` keyword in `torch.sum`. Setting `dim=0` takes the sum across the rows while `dim=1` takes the sum across the columns."
      ]
    },
    {
      "cell_type": "code",
      "metadata": {
        "id": "XqEoxyIQ6mDQ",
        "colab_type": "code",
        "outputId": "c1dfb439-bf68-4ac5-abc6-83f66cdb78f9",
        "colab": {
          "base_uri": "https://localhost:8080/",
          "height": 170
        }
      },
      "source": [
        "def softmax(x):\n",
        "    ## TODO: Implement the softmax function here\n",
        "    return torch.exp(x)/torch.sum(torch.exp(x),dim=1).view(-1,1)\n",
        "\n",
        "\"\"\"\n",
        "t=torch.sum(torch.exp(out),dim=1).reshape(64,1)\n",
        "q=torch.exp(out)\n",
        "\n",
        "print(q.shape)\n",
        "print(t.shape)\n",
        "\n",
        "#print((torch.sum(torch.exp(out),dim=1)).shape)\n",
        "\"\"\"\n",
        "\n",
        "# Here, out should be the output of the network in the previous excercise with shape (64,10)\n",
        "probabilities = softmax(out)\n",
        "\n",
        "# Does it have the right shape? Should be (64, 10)\n",
        "print(probabilities.shape)\n",
        "# Does it sum to 1?\n",
        "print(probabilities.sum(dim=1))"
      ],
      "execution_count": 0,
      "outputs": [
        {
          "output_type": "stream",
          "text": [
            "torch.Size([64, 10])\n",
            "tensor([1.0000, 1.0000, 1.0000, 1.0000, 1.0000, 1.0000, 1.0000, 1.0000, 1.0000,\n",
            "        1.0000, 1.0000, 1.0000, 1.0000, 1.0000, 1.0000, 1.0000, 1.0000, 1.0000,\n",
            "        1.0000, 1.0000, 1.0000, 1.0000, 1.0000, 1.0000, 1.0000, 1.0000, 1.0000,\n",
            "        1.0000, 1.0000, 1.0000, 1.0000, 1.0000, 1.0000, 1.0000, 1.0000, 1.0000,\n",
            "        1.0000, 1.0000, 1.0000, 1.0000, 1.0000, 1.0000, 1.0000, 1.0000, 1.0000,\n",
            "        1.0000, 1.0000, 1.0000, 1.0000, 1.0000, 1.0000, 1.0000, 1.0000, 1.0000,\n",
            "        1.0000, 1.0000, 1.0000, 1.0000, 1.0000, 1.0000, 1.0000, 1.0000, 1.0000,\n",
            "        1.0000])\n"
          ],
          "name": "stdout"
        }
      ]
    },
    {
      "cell_type": "markdown",
      "metadata": {
        "id": "OUiCfuN66mDW",
        "colab_type": "text"
      },
      "source": [
        "## Building networks with PyTorch\n",
        "\n",
        "PyTorch provides a module `nn` that makes building networks much simpler. Here I'll show you how to build the same one as above with 784 inputs, 256 hidden units, 10 output units and a softmax output."
      ]
    },
    {
      "cell_type": "code",
      "metadata": {
        "id": "bHBb_IME6mDX",
        "colab_type": "code",
        "colab": {}
      },
      "source": [
        "from torch import nn"
      ],
      "execution_count": 0,
      "outputs": []
    },
    {
      "cell_type": "code",
      "metadata": {
        "id": "b4iRyLfC6mDa",
        "colab_type": "code",
        "colab": {}
      },
      "source": [
        "class Network(nn.Module):\n",
        "    def __init__(self):\n",
        "        super().__init__()\n",
        "        \n",
        "        # Inputs to hidden layer linear transformation\n",
        "        self.hidden = nn.Linear(784, 256)\n",
        "        # Output layer, 10 units - one for each digit\n",
        "        self.output = nn.Linear(256, 10)\n",
        "        \n",
        "        # Define sigmoid activation and softmax output \n",
        "        self.sigmoid = nn.Sigmoid()\n",
        "        self.softmax = nn.Softmax(dim=1)\n",
        "        \n",
        "    def forward(self, x):\n",
        "        # Pass the input tensor through each of our operations\n",
        "        x = self.hidden(x)\n",
        "        x = self.sigmoid(x)\n",
        "        x = self.output(x)\n",
        "        x = self.softmax(x)\n",
        "        \n",
        "        return x"
      ],
      "execution_count": 0,
      "outputs": []
    },
    {
      "cell_type": "markdown",
      "metadata": {
        "id": "oFe_YiGj6mDc",
        "colab_type": "text"
      },
      "source": [
        "Let's go through this bit by bit.\n",
        "\n",
        "```python\n",
        "class Network(nn.Module):\n",
        "```\n",
        "\n",
        "Here we're inheriting from `nn.Module`. Combined with `super().__init__()` this creates a class that tracks the architecture and provides a lot of useful methods and attributes. It is mandatory to inherit from `nn.Module` when you're creating a class for your network. The name of the class itself can be anything.\n",
        "\n",
        "```python\n",
        "self.hidden = nn.Linear(784, 256)\n",
        "```\n",
        "\n",
        "This line creates a module for a linear transformation, $x\\mathbf{W} + b$, with 784 inputs and 256 outputs and assigns it to `self.hidden`. The module automatically creates the weight and bias tensors which we'll use in the `forward` method. You can access the weight and bias tensors once the network (`net`) is created with `net.hidden.weight` and `net.hidden.bias`.\n",
        "\n",
        "```python\n",
        "self.output = nn.Linear(256, 10)\n",
        "```\n",
        "\n",
        "Similarly, this creates another linear transformation with 256 inputs and 10 outputs.\n",
        "\n",
        "```python\n",
        "self.sigmoid = nn.Sigmoid()\n",
        "self.softmax = nn.Softmax(dim=1)\n",
        "```\n",
        "\n",
        "Here I defined operations for the sigmoid activation and softmax output. Setting `dim=1` in `nn.Softmax(dim=1)` calculates softmax across the columns.\n",
        "\n",
        "```python\n",
        "def forward(self, x):\n",
        "```\n",
        "\n",
        "PyTorch networks created with `nn.Module` must have a `forward` method defined. It takes in a tensor `x` and passes it through the operations you defined in the `__init__` method.\n",
        "\n",
        "```python\n",
        "x = self.hidden(x)\n",
        "x = self.sigmoid(x)\n",
        "x = self.output(x)\n",
        "x = self.softmax(x)\n",
        "```\n",
        "\n",
        "Here the input tensor `x` is passed through each operation and reassigned to `x`. We can see that the input tensor goes through the hidden layer, then a sigmoid function, then the output layer, and finally the softmax function. It doesn't matter what you name the variables here, as long as the inputs and outputs of the operations match the network architecture you want to build. The order in which you define things in the `__init__` method doesn't matter, but you'll need to sequence the operations correctly in the `forward` method.\n",
        "\n",
        "Now we can create a `Network` object."
      ]
    },
    {
      "cell_type": "code",
      "metadata": {
        "id": "X0syLOxE6mDd",
        "colab_type": "code",
        "outputId": "66df3788-d526-4a84-fc0e-0e17a9ebc28c",
        "colab": {
          "base_uri": "https://localhost:8080/",
          "height": 119
        }
      },
      "source": [
        "# Create the network and look at it's text representation\n",
        "model = Network()\n",
        "model"
      ],
      "execution_count": 0,
      "outputs": [
        {
          "output_type": "execute_result",
          "data": {
            "text/plain": [
              "Network(\n",
              "  (hidden): Linear(in_features=784, out_features=256, bias=True)\n",
              "  (output): Linear(in_features=256, out_features=10, bias=True)\n",
              "  (sigmoid): Sigmoid()\n",
              "  (softmax): Softmax(dim=1)\n",
              ")"
            ]
          },
          "metadata": {
            "tags": []
          },
          "execution_count": 76
        }
      ]
    },
    {
      "cell_type": "markdown",
      "metadata": {
        "id": "S7K-mrVM6mDf",
        "colab_type": "text"
      },
      "source": [
        "You can define the network somewhat more concisely and clearly using the `torch.nn.functional` module. This is the most common way you'll see networks defined as many operations are simple element-wise functions. We normally import this module as `F`, `import torch.nn.functional as F`."
      ]
    },
    {
      "cell_type": "code",
      "metadata": {
        "id": "iT6ApBz56mDg",
        "colab_type": "code",
        "colab": {}
      },
      "source": [
        "import torch.nn.functional as F\n",
        "\n",
        "class Network(nn.Module):\n",
        "    def __init__(self):\n",
        "        super().__init__()\n",
        "        # Inputs to hidden layer linear transformation\n",
        "        self.hidden = nn.Linear(784, 256)\n",
        "        # Output layer, 10 units - one for each digit\n",
        "        self.output = nn.Linear(256, 10)\n",
        "        \n",
        "    def forward(self, x):\n",
        "        # Hidden layer with sigmoid activation\n",
        "        x = F.sigmoid(self.hidden(x))\n",
        "        # Output layer with softmax activation\n",
        "        x = F.softmax(self.output(x), dim=1)\n",
        "        \n",
        "        return x"
      ],
      "execution_count": 0,
      "outputs": []
    },
    {
      "cell_type": "markdown",
      "metadata": {
        "id": "8l9Fp45x6mDj",
        "colab_type": "text"
      },
      "source": [
        "### Activation functions\n",
        "\n",
        "So far we've only been looking at the sigmoid activation function, but in general any function can be used as an activation function. The only requirement is that for a network to approximate a non-linear function, the activation functions must be non-linear. Here are a few more examples of common activation functions: Tanh (hyperbolic tangent), and ReLU (rectified linear unit).\n",
        "\n",
        "<img src=\"https://github.com/udacity/deep-learning-v2-pytorch/blob/master/intro-to-pytorch/assets/activation.png?raw=1\" width=700px>\n",
        "\n",
        "In practice, the ReLU function is used almost exclusively as the activation function for hidden layers."
      ]
    },
    {
      "cell_type": "markdown",
      "metadata": {
        "id": "mK_vQgNm6mDj",
        "colab_type": "text"
      },
      "source": [
        "### Your Turn to Build a Network\n",
        "\n",
        "<img src=\"https://github.com/udacity/deep-learning-v2-pytorch/blob/master/intro-to-pytorch/assets/mlp_mnist.png?raw=1\" width=600px>\n",
        "\n",
        "> **Exercise:** Create a network with 784 input units, a hidden layer with 128 units and a ReLU activation, then a hidden layer with 64 units and a ReLU activation, and finally an output layer with a softmax activation as shown above. You can use a ReLU activation with the `nn.ReLU` module or `F.relu` function.\n",
        "\n",
        "It's good practice to name your layers by their type of network, for instance 'fc' to represent a fully-connected layer. As you code your solution, use `fc1`, `fc2`, and `fc3` as your layer names."
      ]
    },
    {
      "cell_type": "code",
      "metadata": {
        "scrolled": true,
        "id": "3dLFlt_86mDn",
        "colab_type": "code",
        "outputId": "60c11321-6892-461b-9553-1f5b4377474d",
        "colab": {
          "base_uri": "https://localhost:8080/",
          "height": 102
        }
      },
      "source": [
        "## Your solution here\n",
        "\n",
        "import torch.nn.functional as F\n",
        "\n",
        "class Network(nn.Module):\n",
        "    def __init__(self):\n",
        "        super().__init__()\n",
        "        # Inputs to two hidden layer linear transformation\n",
        "        self.fc1 = nn.Linear(784, 128)\n",
        "\n",
        "        self.fc2 = nn.Linear(128, 64)\n",
        "        # Output layer, 10 units - one for each digit\n",
        "        self.output = nn.Linear(64, 10)\n",
        "        \n",
        "    def forward(self, x):\n",
        "        # Hidden layer with sigmoid activation\n",
        "        x = F.relu(self.fc1(x))\n",
        "        x = F.relu(self.fc2(x))\n",
        "        # Output layer with softmax activation\n",
        "        x = F.softmax(self.output(x), dim=1)\n",
        "        \n",
        "        return x\n",
        "\n",
        "model=Network()\n",
        "model\n"
      ],
      "execution_count": 0,
      "outputs": [
        {
          "output_type": "execute_result",
          "data": {
            "text/plain": [
              "Network(\n",
              "  (fc1): Linear(in_features=784, out_features=128, bias=True)\n",
              "  (fc2): Linear(in_features=128, out_features=64, bias=True)\n",
              "  (output): Linear(in_features=64, out_features=10, bias=True)\n",
              ")"
            ]
          },
          "metadata": {
            "tags": []
          },
          "execution_count": 78
        }
      ]
    },
    {
      "cell_type": "markdown",
      "metadata": {
        "id": "0HU2FfL_6mDs",
        "colab_type": "text"
      },
      "source": [
        "### Initializing weights and biases\n",
        "\n",
        "The weights and such are automatically initialized for you, but it's possible to customize how they are initialized. The weights and biases are tensors attached to the layer you defined, you can get them with `model.fc1.weight` for instance."
      ]
    },
    {
      "cell_type": "code",
      "metadata": {
        "id": "SVN2e_iL6mDt",
        "colab_type": "code",
        "outputId": "b079af84-9ade-4c57-8942-708b75b05dcb",
        "colab": {
          "base_uri": "https://localhost:8080/",
          "height": 476
        }
      },
      "source": [
        "print(model.fc1.weight)\n",
        "print(model.fc1.bias)"
      ],
      "execution_count": 0,
      "outputs": [
        {
          "output_type": "stream",
          "text": [
            "Parameter containing:\n",
            "tensor([[-0.0117,  0.0123, -0.0257,  ...,  0.0102, -0.0183, -0.0242],\n",
            "        [ 0.0133,  0.0354,  0.0200,  ...,  0.0006,  0.0239,  0.0073],\n",
            "        [-0.0265, -0.0100, -0.0081,  ...,  0.0081,  0.0262, -0.0182],\n",
            "        ...,\n",
            "        [ 0.0231, -0.0051, -0.0190,  ...,  0.0141,  0.0171,  0.0069],\n",
            "        [ 0.0065, -0.0343,  0.0183,  ...,  0.0241,  0.0138, -0.0332],\n",
            "        [-0.0204,  0.0180,  0.0130,  ...,  0.0259, -0.0181, -0.0197]],\n",
            "       requires_grad=True)\n",
            "Parameter containing:\n",
            "tensor([-0.0051,  0.0088, -0.0194, -0.0121,  0.0031,  0.0297, -0.0123, -0.0245,\n",
            "        -0.0043, -0.0062, -0.0058,  0.0300, -0.0144,  0.0088,  0.0072,  0.0077,\n",
            "         0.0341,  0.0216, -0.0311, -0.0347, -0.0306, -0.0232,  0.0306,  0.0135,\n",
            "         0.0083, -0.0297, -0.0305,  0.0182, -0.0197, -0.0244, -0.0030,  0.0296,\n",
            "        -0.0327, -0.0013, -0.0001, -0.0106, -0.0331, -0.0356,  0.0136, -0.0290,\n",
            "        -0.0061,  0.0118, -0.0282,  0.0077,  0.0072, -0.0272,  0.0180,  0.0285,\n",
            "         0.0039,  0.0326,  0.0090, -0.0262, -0.0320, -0.0064, -0.0339,  0.0055,\n",
            "         0.0175, -0.0131, -0.0209, -0.0156,  0.0045, -0.0174, -0.0094,  0.0099,\n",
            "         0.0321, -0.0353,  0.0204,  0.0212,  0.0280,  0.0003, -0.0309,  0.0007,\n",
            "         0.0125,  0.0263,  0.0267, -0.0349,  0.0126,  0.0010, -0.0075,  0.0337,\n",
            "        -0.0282, -0.0044, -0.0341, -0.0264, -0.0002, -0.0243, -0.0265,  0.0088,\n",
            "        -0.0130, -0.0218, -0.0027, -0.0339, -0.0025, -0.0227,  0.0074, -0.0084,\n",
            "        -0.0136,  0.0098, -0.0139, -0.0052, -0.0002, -0.0193, -0.0044, -0.0019,\n",
            "         0.0351, -0.0199, -0.0355, -0.0107,  0.0069,  0.0352,  0.0285, -0.0259,\n",
            "        -0.0119,  0.0050,  0.0274, -0.0097, -0.0154, -0.0308, -0.0259,  0.0142,\n",
            "         0.0305,  0.0022, -0.0216,  0.0155, -0.0344, -0.0016, -0.0334,  0.0299],\n",
            "       requires_grad=True)\n"
          ],
          "name": "stdout"
        }
      ]
    },
    {
      "cell_type": "markdown",
      "metadata": {
        "id": "H_7RQ43_6mDw",
        "colab_type": "text"
      },
      "source": [
        "For custom initialization, we want to modify these tensors in place. These are actually autograd *Variables*, so we need to get back the actual tensors with `model.fc1.weight.data`. Once we have the tensors, we can fill them with zeros (for biases) or random normal values."
      ]
    },
    {
      "cell_type": "code",
      "metadata": {
        "id": "CyTM28JH6mDx",
        "colab_type": "code",
        "outputId": "f7ea20bd-1a6d-4c1c-edf0-713cbe2cc54f",
        "colab": {
          "base_uri": "https://localhost:8080/",
          "height": 119
        }
      },
      "source": [
        "# Set biases to all zeros\n",
        "model.fc1.bias.data.fill_(0)"
      ],
      "execution_count": 0,
      "outputs": [
        {
          "output_type": "execute_result",
          "data": {
            "text/plain": [
              "tensor([0., 0., 0., 0., 0., 0., 0., 0., 0., 0., 0., 0., 0., 0., 0., 0., 0., 0., 0., 0., 0., 0., 0., 0.,\n",
              "        0., 0., 0., 0., 0., 0., 0., 0., 0., 0., 0., 0., 0., 0., 0., 0., 0., 0., 0., 0., 0., 0., 0., 0.,\n",
              "        0., 0., 0., 0., 0., 0., 0., 0., 0., 0., 0., 0., 0., 0., 0., 0., 0., 0., 0., 0., 0., 0., 0., 0.,\n",
              "        0., 0., 0., 0., 0., 0., 0., 0., 0., 0., 0., 0., 0., 0., 0., 0., 0., 0., 0., 0., 0., 0., 0., 0.,\n",
              "        0., 0., 0., 0., 0., 0., 0., 0., 0., 0., 0., 0., 0., 0., 0., 0., 0., 0., 0., 0., 0., 0., 0., 0.,\n",
              "        0., 0., 0., 0., 0., 0., 0., 0.])"
            ]
          },
          "metadata": {
            "tags": []
          },
          "execution_count": 80
        }
      ]
    },
    {
      "cell_type": "code",
      "metadata": {
        "id": "R-Pq0SWf6mDz",
        "colab_type": "code",
        "outputId": "3117331e-822d-4994-a574-9a5b2b8087b6",
        "colab": {
          "base_uri": "https://localhost:8080/",
          "height": 136
        }
      },
      "source": [
        "# sample from random normal with standard dev = 0.01\n",
        "model.fc1.weight.data.normal_(std=0.01)"
      ],
      "execution_count": 0,
      "outputs": [
        {
          "output_type": "execute_result",
          "data": {
            "text/plain": [
              "tensor([[ 0.0046, -0.0033, -0.0083,  ...,  0.0024,  0.0118,  0.0040],\n",
              "        [-0.0073, -0.0023,  0.0028,  ...,  0.0105,  0.0084, -0.0017],\n",
              "        [ 0.0012, -0.0141,  0.0022,  ...,  0.0005,  0.0021, -0.0042],\n",
              "        ...,\n",
              "        [ 0.0061,  0.0028,  0.0050,  ..., -0.0140,  0.0156,  0.0074],\n",
              "        [ 0.0117,  0.0057,  0.0005,  ...,  0.0104, -0.0021, -0.0061],\n",
              "        [-0.0142,  0.0148,  0.0049,  ...,  0.0009, -0.0091,  0.0036]])"
            ]
          },
          "metadata": {
            "tags": []
          },
          "execution_count": 81
        }
      ]
    },
    {
      "cell_type": "markdown",
      "metadata": {
        "id": "oJNxXhkY6mD2",
        "colab_type": "text"
      },
      "source": [
        "### Forward pass\n",
        "\n",
        "Now that we have a network, let's see what happens when we pass in an image."
      ]
    },
    {
      "cell_type": "code",
      "metadata": {
        "id": "GA4vZsLr6mD2",
        "colab_type": "code",
        "outputId": "2b485d6b-e7b3-4779-e3b5-30ff44e6e11b",
        "colab": {
          "base_uri": "https://localhost:8080/",
          "height": 197
        }
      },
      "source": [
        "# Grab some data \n",
        "dataiter = iter(trainloader)\n",
        "images, labels = dataiter.next()\n",
        "\n",
        "# Resize images into a 1D vector, new shape is (batch size, color channels, image pixels) \n",
        "images.resize_(64, 1, 784)\n",
        "# or images.resize_(images.shape[0], 1, 784) to automatically get batch size\n",
        "\n",
        "# Forward pass through the network\n",
        "img_idx = 0\n",
        "ps = model.forward(images[img_idx,:])\n",
        "\n",
        "img = images[img_idx]\n",
        "helper.view_classify(img.view(1, 28, 28), ps)"
      ],
      "execution_count": 0,
      "outputs": [
        {
          "output_type": "error",
          "ename": "AttributeError",
          "evalue": "ignored",
          "traceback": [
            "\u001b[0;31m---------------------------------------------------------------------------\u001b[0m",
            "\u001b[0;31mAttributeError\u001b[0m                            Traceback (most recent call last)",
            "\u001b[0;32m<ipython-input-82-07a71317f718>\u001b[0m in \u001b[0;36m<module>\u001b[0;34m()\u001b[0m\n\u001b[1;32m     11\u001b[0m \u001b[0;34m\u001b[0m\u001b[0m\n\u001b[1;32m     12\u001b[0m \u001b[0mimg\u001b[0m \u001b[0;34m=\u001b[0m \u001b[0mimages\u001b[0m\u001b[0;34m[\u001b[0m\u001b[0mimg_idx\u001b[0m\u001b[0;34m]\u001b[0m\u001b[0;34m\u001b[0m\u001b[0;34m\u001b[0m\u001b[0m\n\u001b[0;32m---> 13\u001b[0;31m \u001b[0mhelper\u001b[0m\u001b[0;34m.\u001b[0m\u001b[0mview_classify\u001b[0m\u001b[0;34m(\u001b[0m\u001b[0mimg\u001b[0m\u001b[0;34m.\u001b[0m\u001b[0mview\u001b[0m\u001b[0;34m(\u001b[0m\u001b[0;36m1\u001b[0m\u001b[0;34m,\u001b[0m \u001b[0;36m28\u001b[0m\u001b[0;34m,\u001b[0m \u001b[0;36m28\u001b[0m\u001b[0;34m)\u001b[0m\u001b[0;34m,\u001b[0m \u001b[0mps\u001b[0m\u001b[0;34m)\u001b[0m\u001b[0;34m\u001b[0m\u001b[0;34m\u001b[0m\u001b[0m\n\u001b[0m",
            "\u001b[0;31mAttributeError\u001b[0m: module 'helper' has no attribute 'view_classify'"
          ]
        }
      ]
    },
    {
      "cell_type": "markdown",
      "metadata": {
        "id": "QR_HT8Of6mD7",
        "colab_type": "text"
      },
      "source": [
        "As you can see above, our network has basically no idea what this digit is. It's because we haven't trained it yet, all the weights are random!\n",
        "\n",
        "### Using `nn.Sequential`\n",
        "\n",
        "PyTorch provides a convenient way to build networks like this where a tensor is passed sequentially through operations, `nn.Sequential` ([documentation](https://pytorch.org/docs/master/nn.html#torch.nn.Sequential)). Using this to build the equivalent network:"
      ]
    },
    {
      "cell_type": "code",
      "metadata": {
        "id": "qo9D3vsf6mD9",
        "colab_type": "code",
        "outputId": "a5dcf00f-9a75-4934-8820-9cde8965bdcb",
        "colab": {
          "base_uri": "https://localhost:8080/",
          "height": 333
        }
      },
      "source": [
        "# Hyperparameters for our network\n",
        "input_size = 784\n",
        "hidden_sizes = [128, 64]\n",
        "output_size = 10\n",
        "\n",
        "# Build a feed-forward network\n",
        "model = nn.Sequential(nn.Linear(input_size, hidden_sizes[0]),\n",
        "                      nn.ReLU(),\n",
        "                      nn.Linear(hidden_sizes[0], hidden_sizes[1]),\n",
        "                      nn.ReLU(),\n",
        "                      nn.Linear(hidden_sizes[1], output_size),\n",
        "                      nn.Softmax(dim=1))\n",
        "print(model)\n",
        "\n",
        "# Forward pass through the network and display output\n",
        "images, labels = next(iter(trainloader))\n",
        "images.resize_(images.shape[0], 1, 784)\n",
        "ps = model.forward(images[0,:])\n",
        "helper.view_classify(images[0].view(1, 28, 28), ps)"
      ],
      "execution_count": 0,
      "outputs": [
        {
          "output_type": "stream",
          "text": [
            "Sequential(\n",
            "  (0): Linear(in_features=784, out_features=128, bias=True)\n",
            "  (1): ReLU()\n",
            "  (2): Linear(in_features=128, out_features=64, bias=True)\n",
            "  (3): ReLU()\n",
            "  (4): Linear(in_features=64, out_features=10, bias=True)\n",
            "  (5): Softmax(dim=1)\n",
            ")\n"
          ],
          "name": "stdout"
        },
        {
          "output_type": "error",
          "ename": "AttributeError",
          "evalue": "ignored",
          "traceback": [
            "\u001b[0;31m---------------------------------------------------------------------------\u001b[0m",
            "\u001b[0;31mAttributeError\u001b[0m                            Traceback (most recent call last)",
            "\u001b[0;32m<ipython-input-63-c280e5febbb4>\u001b[0m in \u001b[0;36m<module>\u001b[0;34m()\u001b[0m\n\u001b[1;32m     16\u001b[0m \u001b[0mimages\u001b[0m\u001b[0;34m.\u001b[0m\u001b[0mresize_\u001b[0m\u001b[0;34m(\u001b[0m\u001b[0mimages\u001b[0m\u001b[0;34m.\u001b[0m\u001b[0mshape\u001b[0m\u001b[0;34m[\u001b[0m\u001b[0;36m0\u001b[0m\u001b[0;34m]\u001b[0m\u001b[0;34m,\u001b[0m \u001b[0;36m1\u001b[0m\u001b[0;34m,\u001b[0m \u001b[0;36m784\u001b[0m\u001b[0;34m)\u001b[0m\u001b[0;34m\u001b[0m\u001b[0;34m\u001b[0m\u001b[0m\n\u001b[1;32m     17\u001b[0m \u001b[0mps\u001b[0m \u001b[0;34m=\u001b[0m \u001b[0mmodel\u001b[0m\u001b[0;34m.\u001b[0m\u001b[0mforward\u001b[0m\u001b[0;34m(\u001b[0m\u001b[0mimages\u001b[0m\u001b[0;34m[\u001b[0m\u001b[0;36m0\u001b[0m\u001b[0;34m,\u001b[0m\u001b[0;34m:\u001b[0m\u001b[0;34m]\u001b[0m\u001b[0;34m)\u001b[0m\u001b[0;34m\u001b[0m\u001b[0;34m\u001b[0m\u001b[0m\n\u001b[0;32m---> 18\u001b[0;31m \u001b[0mhelper\u001b[0m\u001b[0;34m.\u001b[0m\u001b[0mview_classify\u001b[0m\u001b[0;34m(\u001b[0m\u001b[0mimages\u001b[0m\u001b[0;34m[\u001b[0m\u001b[0;36m0\u001b[0m\u001b[0;34m]\u001b[0m\u001b[0;34m.\u001b[0m\u001b[0mview\u001b[0m\u001b[0;34m(\u001b[0m\u001b[0;36m1\u001b[0m\u001b[0;34m,\u001b[0m \u001b[0;36m28\u001b[0m\u001b[0;34m,\u001b[0m \u001b[0;36m28\u001b[0m\u001b[0;34m)\u001b[0m\u001b[0;34m,\u001b[0m \u001b[0mps\u001b[0m\u001b[0;34m)\u001b[0m\u001b[0;34m\u001b[0m\u001b[0;34m\u001b[0m\u001b[0m\n\u001b[0m",
            "\u001b[0;31mAttributeError\u001b[0m: module 'helper' has no attribute 'view_classify'"
          ]
        }
      ]
    },
    {
      "cell_type": "markdown",
      "metadata": {
        "id": "eb_1B1W46mEG",
        "colab_type": "text"
      },
      "source": [
        "Here our model is the same as before: 784 input units, a hidden layer with 128 units, ReLU activation, 64 unit hidden layer, another ReLU, then the output layer with 10 units, and the softmax output.\n",
        "\n",
        "The operations are available by passing in the appropriate index. For example, if you want to get first Linear operation and look at the weights, you'd use `model[0]`."
      ]
    },
    {
      "cell_type": "code",
      "metadata": {
        "id": "hMtIt-Ef6mEH",
        "colab_type": "code",
        "outputId": "04ae63bf-37ce-468f-c2dd-23ab717d048b",
        "colab": {
          "base_uri": "https://localhost:8080/",
          "height": 187
        }
      },
      "source": [
        "print(model[0])\n",
        "model[0].weight"
      ],
      "execution_count": 0,
      "outputs": [
        {
          "output_type": "stream",
          "text": [
            "Linear(in_features=784, out_features=128, bias=True)\n"
          ],
          "name": "stdout"
        },
        {
          "output_type": "execute_result",
          "data": {
            "text/plain": [
              "Parameter containing:\n",
              "tensor([[-0.0061,  0.0193, -0.0038,  ...,  0.0277, -0.0305,  0.0071],\n",
              "        [ 0.0032,  0.0002,  0.0246,  ..., -0.0018, -0.0048,  0.0078],\n",
              "        [-0.0093, -0.0191, -0.0253,  ..., -0.0050,  0.0036, -0.0096],\n",
              "        ...,\n",
              "        [ 0.0216, -0.0289,  0.0111,  ..., -0.0178, -0.0174,  0.0001],\n",
              "        [-0.0188, -0.0127, -0.0203,  ..., -0.0216,  0.0279, -0.0120],\n",
              "        [ 0.0349,  0.0172,  0.0255,  ...,  0.0202,  0.0316, -0.0092]],\n",
              "       requires_grad=True)"
            ]
          },
          "metadata": {
            "tags": []
          },
          "execution_count": 64
        }
      ]
    },
    {
      "cell_type": "markdown",
      "metadata": {
        "id": "RplpoOR56mEK",
        "colab_type": "text"
      },
      "source": [
        "You can also pass in an `OrderedDict` to name the individual layers and operations, instead of using incremental integers. Note that dictionary keys must be unique, so _each operation must have a different name_."
      ]
    },
    {
      "cell_type": "code",
      "metadata": {
        "id": "Dyj4xb476mEL",
        "colab_type": "code",
        "outputId": "7fd5890f-8864-4661-8499-8e1b9359f712",
        "colab": {
          "base_uri": "https://localhost:8080/",
          "height": 153
        }
      },
      "source": [
        "from collections import OrderedDict\n",
        "model = nn.Sequential(OrderedDict([\n",
        "                      ('fc1', nn.Linear(input_size, hidden_sizes[0])),\n",
        "                      ('relu1', nn.ReLU()),\n",
        "                      ('fc2', nn.Linear(hidden_sizes[0], hidden_sizes[1])),\n",
        "                      ('relu2', nn.ReLU()),\n",
        "                      ('output', nn.Linear(hidden_sizes[1], output_size)),\n",
        "                      ('softmax', nn.Softmax(dim=1))]))\n",
        "model"
      ],
      "execution_count": 0,
      "outputs": [
        {
          "output_type": "execute_result",
          "data": {
            "text/plain": [
              "Sequential(\n",
              "  (fc1): Linear(in_features=784, out_features=128, bias=True)\n",
              "  (relu1): ReLU()\n",
              "  (fc2): Linear(in_features=128, out_features=64, bias=True)\n",
              "  (relu2): ReLU()\n",
              "  (output): Linear(in_features=64, out_features=10, bias=True)\n",
              "  (softmax): Softmax(dim=1)\n",
              ")"
            ]
          },
          "metadata": {
            "tags": []
          },
          "execution_count": 65
        }
      ]
    },
    {
      "cell_type": "markdown",
      "metadata": {
        "id": "wCmwHsfH6mEQ",
        "colab_type": "text"
      },
      "source": [
        "Now you can access layers either by integer or the name"
      ]
    },
    {
      "cell_type": "code",
      "metadata": {
        "id": "bd52OnLS6mER",
        "colab_type": "code",
        "outputId": "cc3c53f5-c3d6-43d8-a25e-3856eb011d8f",
        "colab": {
          "base_uri": "https://localhost:8080/",
          "height": 51
        }
      },
      "source": [
        "print(model[0])\n",
        "print(model.fc1)"
      ],
      "execution_count": 0,
      "outputs": [
        {
          "output_type": "stream",
          "text": [
            "Linear(in_features=784, out_features=128, bias=True)\n",
            "Linear(in_features=784, out_features=128, bias=True)\n"
          ],
          "name": "stdout"
        }
      ]
    },
    {
      "cell_type": "markdown",
      "metadata": {
        "id": "ZKjgWa-a6mEW",
        "colab_type": "text"
      },
      "source": [
        "In the next notebook, we'll see how we can train a neural network to accuractly predict the numbers appearing in the MNIST images."
      ]
    }
  ]
}
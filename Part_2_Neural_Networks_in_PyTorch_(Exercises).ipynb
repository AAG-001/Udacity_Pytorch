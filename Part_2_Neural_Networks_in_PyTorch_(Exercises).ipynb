{
  "nbformat": 4,
  "nbformat_minor": 0,
  "metadata": {
    "kernelspec": {
      "display_name": "Python [default]",
      "language": "python",
      "name": "python3"
    },
    "language_info": {
      "codemirror_mode": {
        "name": "ipython",
        "version": 3
      },
      "file_extension": ".py",
      "mimetype": "text/x-python",
      "name": "python",
      "nbconvert_exporter": "python",
      "pygments_lexer": "ipython3",
      "version": "3.6.4"
    },
    "colab": {
      "name": "Part_2_Neural_Networks_in_PyTorch_(Exercises).ipynb",
      "provenance": [],
      "collapsed_sections": [],
      "include_colab_link": true
    }
  },
  "cells": [
    {
      "cell_type": "markdown",
      "metadata": {
        "id": "view-in-github",
        "colab_type": "text"
      },
      "source": [
        "<a href=\"https://colab.research.google.com/github/AAG-001/Udacity_Pytorch/blob/master/Part_2_Neural_Networks_in_PyTorch_(Exercises).ipynb\" target=\"_parent\"><img src=\"https://colab.research.google.com/assets/colab-badge.svg\" alt=\"Open In Colab\"/></a>"
      ]
    },
    {
      "cell_type": "markdown",
      "metadata": {
        "id": "kolqp3Q96mC3",
        "colab_type": "text"
      },
      "source": [
        "# Neural networks with PyTorch\n",
        "\n",
        "Deep learning networks tend to be massive with dozens or hundreds of layers, that's where the term \"deep\" comes from. You can build one of these deep networks using only weight matrices as we did in the previous notebook, but in general it's very cumbersome and difficult to implement. PyTorch has a nice module `nn` that provides a nice way to efficiently build large neural networks."
      ]
    },
    {
      "cell_type": "code",
      "metadata": {
        "id": "y3x98ZWa6mC6",
        "colab_type": "code",
        "colab": {}
      },
      "source": [
        "# Import necessary packages\n",
        "\n",
        "%matplotlib inline\n",
        "%config InlineBackend.figure_format = 'retina'\n",
        "\n",
        "import numpy as np\n",
        "import torch\n",
        "\n",
        "import helper\n",
        "\n",
        "import matplotlib.pyplot as plt"
      ],
      "execution_count": 0,
      "outputs": []
    },
    {
      "cell_type": "markdown",
      "metadata": {
        "id": "nEKkzc0x6mDA",
        "colab_type": "text"
      },
      "source": [
        "\n",
        "Now we're going to build a larger network that can solve a (formerly) difficult problem, identifying text in an image. Here we'll use the MNIST dataset which consists of greyscale handwritten digits. Each image is 28x28 pixels, you can see a sample below\n",
        "\n",
        "<img src='https://github.com/udacity/deep-learning-v2-pytorch/blob/master/intro-to-pytorch/assets/mnist.png?raw=1'>\n",
        "\n",
        "Our goal is to build a neural network that can take one of these images and predict the digit in the image.\n",
        "\n",
        "First up, we need to get our dataset. This is provided through the `torchvision` package. The code below will download the MNIST dataset, then create training and test datasets for us. Don't worry too much about the details here, you'll learn more about this later."
      ]
    },
    {
      "cell_type": "code",
      "metadata": {
        "id": "x7j2t99_6mDC",
        "colab_type": "code",
        "colab": {}
      },
      "source": [
        "### Run this cell\n",
        "\n",
        "from torchvision import datasets, transforms\n",
        "\n",
        "# Define a transform to normalize the data\n",
        "transform = transforms.Compose([transforms.ToTensor(),\n",
        "                              transforms.Normalize((0.5,), (0.5,)),\n",
        "                              ])\n",
        "\n",
        "# Download and load the training data\n",
        "trainset = datasets.MNIST('~/.pytorch/MNIST_data/', download=True, train=True, transform=transform)\n",
        "trainloader = torch.utils.data.DataLoader(trainset, batch_size=64, shuffle=True)"
      ],
      "execution_count": 0,
      "outputs": []
    },
    {
      "cell_type": "markdown",
      "metadata": {
        "id": "dIntPvi96mDF",
        "colab_type": "text"
      },
      "source": [
        "We have the training data loaded into `trainloader` and we make that an iterator with `iter(trainloader)`. Later, we'll use this to loop through the dataset for training, like\n",
        "\n",
        "```python\n",
        "for image, label in trainloader:\n",
        "    ## do things with images and labels\n",
        "```\n",
        "\n",
        "You'll notice I created the `trainloader` with a batch size of 64, and `shuffle=True`. The batch size is the number of images we get in one iteration from the data loader and pass through our network, often called a *batch*. And `shuffle=True` tells it to shuffle the dataset every time we start going through the data loader again. But here I'm just grabbing the first batch so we can check out the data. We can see below that `images` is just a tensor with size `(64, 1, 28, 28)`. So, 64 images per batch, 1 color channel, and 28x28 images."
      ]
    },
    {
      "cell_type": "code",
      "metadata": {
        "id": "l43ceUx-6mDG",
        "colab_type": "code",
        "outputId": "f8bd19bf-c8e8-408c-c730-c0be74b38244",
        "colab": {
          "base_uri": "https://localhost:8080/",
          "height": 68
        }
      },
      "source": [
        "dataiter = iter(trainloader)\n",
        "images, labels = dataiter.next()\n",
        "print(type(images))\n",
        "print(images.shape)\n",
        "print(labels.shape)"
      ],
      "execution_count": 3,
      "outputs": [
        {
          "output_type": "stream",
          "text": [
            "<class 'torch.Tensor'>\n",
            "torch.Size([64, 1, 28, 28])\n",
            "torch.Size([64])\n"
          ],
          "name": "stdout"
        }
      ]
    },
    {
      "cell_type": "markdown",
      "metadata": {
        "id": "vZwIPVa36mDJ",
        "colab_type": "text"
      },
      "source": [
        "This is what one of the images looks like. "
      ]
    },
    {
      "cell_type": "code",
      "metadata": {
        "id": "-XzIiIbr6mDJ",
        "colab_type": "code",
        "outputId": "6c8afeb8-cd16-43a7-b089-b7727288b419",
        "colab": {
          "base_uri": "https://localhost:8080/",
          "height": 265
        }
      },
      "source": [
        "plt.imshow(images[1].numpy().squeeze(), cmap='Greys_r');"
      ],
      "execution_count": 4,
      "outputs": [
        {
          "output_type": "display_data",
          "data": {
            "image/png": "[encoded data removed]",
            "text/plain": [
              "<Figure size 432x288 with 1 Axes>"
            ]
          },
          "metadata": {
            "tags": [],
            "image/png": {
              "width": 251,
              "height": 248
            }
          }
        }
      ]
    },
    {
      "cell_type": "markdown",
      "metadata": {
        "id": "NECNUB6w6mDM",
        "colab_type": "text"
      },
      "source": [
        "First, let's try to build a simple network for this dataset using weight matrices and matrix multiplications. Then, we'll see how to do it using PyTorch's `nn` module which provides a much more convenient and powerful method for defining network architectures.\n",
        "\n",
        "The networks you've seen so far are called *fully-connected* or *dense* networks. Each unit in one layer is connected to each unit in the next layer. In fully-connected networks, the input to each layer must be a one-dimensional vector (which can be stacked into a 2D tensor as a batch of multiple examples). However, our images are 28x28 2D tensors, so we need to convert them into 1D vectors. Thinking about sizes, we need to convert the batch of images with shape `(64, 1, 28, 28)` to a have a shape of `(64, 784)`, 784 is 28 times 28. This is typically called *flattening*, we flattened the 2D images into 1D vectors.\n",
        "\n",
        "Previously you built a network with one output unit. Here we need 10 output units, one for each digit. We want our network to predict the digit shown in an image, so what we'll do is calculate probabilities that the image is of any one digit or class. This ends up being a discrete probability distribution over the classes (digits) that tells us the most likely class for the image. That means we need 10 output units for the 10 classes (digits). We'll see how to convert the network output into a probability distribution next.\n",
        "\n",
        "> **Exercise:** Flatten the batch of images `images`. Then build a multi-layer network with 784 input units, 256 hidden units, and 10 output units using random tensors for the weights and biases. For now, use a sigmoid activation for the hidden layer. Leave the output layer without an activation, we'll add one that gives us a probability distribution next."
      ]
    },
    {
      "cell_type": "code",
      "metadata": {
        "id": "JkuzSPyC6mDN",
        "colab_type": "code",
        "outputId": "0cd68c05-a03f-4a78-be98-f4a63117307d",
        "colab": {
          "base_uri": "https://localhost:8080/",
          "height": 1000
        }
      },
      "source": [
        "## Your solution\n",
        "\n",
        "def activation(x):\n",
        "  #Sigmoid activation function\n",
        "  return 1/(1+torch.exp(-x))\n",
        "  \n",
        "print(images.shape[0])\n",
        "#direct flatenning of images\n",
        "features= images.view(images.shape[0],-1)\n",
        "\n",
        "\n",
        "n_input=784          #number of input units \n",
        "n_hidden=256          #number of hidden units\n",
        "n_output=10           #number of output units\n",
        "\n",
        "# Weights for inputs to hidden layer\n",
        "W1 = torch.randn(n_input, n_hidden)\n",
        "#W1 = torch.randn(784, 256)\n",
        "\n",
        "# Weights for hidden layer to output layer\n",
        "W2 = torch.randn(n_hidden, n_output)\n",
        "#W2 = torch.randn(256, 10)\n",
        "\n",
        "# and bias terms for hidden and output layers\n",
        "B1 = torch.randn((1, n_hidden))\n",
        "#B1 = torch.randn(256)\n",
        "\n",
        "B2 = torch.randn((1, n_output))\n",
        "#B2 = torch.randn((10)\n",
        "\n",
        "#hidden layer\n",
        "h=activation(torch.mm(features,W1)+B1)\n",
        "\n",
        "\n",
        "out = torch.mm(h,W2)+B2       \n",
        "# output of your network, should have shape (64,10)\n",
        "\n",
        "print(out)"
      ],
      "execution_count": 5,
      "outputs": [
        {
          "output_type": "stream",
          "text": [
            "64\n",
            "tensor([[  6.0877,   1.0510,  -1.0860,  14.0011, -14.5909,  -8.1075,  11.2097,\n",
            "           8.3176,  10.9813,   7.6328],\n",
            "        [  0.5911,   5.0207,   1.6649,   7.5285, -22.5538, -10.1359,   5.3985,\n",
            "          -2.3115,  19.1793,   9.4949],\n",
            "        [ -9.1088,  11.6286,   1.9165,   7.2779, -10.6150, -11.9758,   3.0325,\n",
            "          -8.9719,  17.6321,   5.5280],\n",
            "        [-10.5084,   0.5707,   1.2028,  -2.9262,  -9.7992, -16.1650,   8.4385,\n",
            "          -1.1602,  16.4515,  12.7181],\n",
            "        [  0.6402,   4.7466,   2.1741,   5.2130, -11.8415, -16.6815,   4.4044,\n",
            "           0.3048,  11.2591,   8.2096],\n",
            "        [  4.6050,  -0.2567,   5.7131,  10.0738,   3.1491, -13.0925,  12.8290,\n",
            "           8.3892,  12.5961,  10.4882],\n",
            "        [ -2.3136,   1.2720,  -0.8188,   4.5462,   4.3153,  -7.3303,  21.4220,\n",
            "           9.6808,   8.5764,  17.0745],\n",
            "        [ -6.5187,   2.9932,  11.4437,  13.7807,  -1.7955,  -6.7126,  21.4677,\n",
            "          10.0625,  -3.4476,   7.4126],\n",
            "        [  6.2951,   5.8632, -10.0995,  14.9399, -16.3662, -10.4848,   7.3276,\n",
            "           5.3173,  12.4796,   5.3395],\n",
            "        [ -2.6872,   3.7812,   4.5378,   1.9802,  -8.9774,  -8.3907,  11.1704,\n",
            "           8.7423,   5.2473,   8.0770],\n",
            "        [ -3.7771,  11.7227,   1.6525,   4.1943, -11.9478,  -6.5033,  18.8110,\n",
            "           9.2623,  10.3142,  18.1638],\n",
            "        [  6.6141,  13.9091,   5.0517,  21.1771,  -8.5524,  -9.1684,   7.3368,\n",
            "           4.7727,  15.2965,   8.1126],\n",
            "        [ -2.3980,   0.3812,   0.4812,   6.3209, -11.0330, -15.8548,  15.1863,\n",
            "           5.0164,  10.8082,   9.4241],\n",
            "        [  3.5943,  14.0935,  -1.7278,  19.3432, -17.1384,   2.5610,   1.3179,\n",
            "          -7.4105,  16.6698,  16.2593],\n",
            "        [  5.3086,   2.5488,   2.6112,   2.8401,   1.8592, -16.8247,   7.1306,\n",
            "          10.5526,  -0.6277,  11.9697],\n",
            "        [ -0.5157,   5.4066,   5.9798,  22.5539, -20.3629,  -3.5172,   0.9336,\n",
            "          -1.6043,  14.8260,   7.6284],\n",
            "        [ -1.0468, -11.6441, -10.4515,   1.9738, -19.6774,  -6.9893,  16.3232,\n",
            "          16.4118,   3.9310,  22.8822],\n",
            "        [ -1.9344,  -0.6992,   6.4619,   0.8695,  -7.6983, -10.9973,   6.1856,\n",
            "           2.1641,   6.9797,  15.2492],\n",
            "        [ -4.7373,   7.9892,  12.1991,   2.0048,   1.3381, -11.2801,  15.1922,\n",
            "           8.8661,  18.6135,  10.0654],\n",
            "        [  1.6350,   5.3180,  13.9968,   9.0529,  -0.8297,  -9.4465,   7.7440,\n",
            "          -0.0893,  13.4644,  11.1151],\n",
            "        [ -3.1340,   3.7575,  17.1813,   6.4645, -15.9618, -11.1740,  16.9744,\n",
            "          10.8711,   7.5524,  15.6951],\n",
            "        [  0.7842,   3.1790,   7.7549,   6.7738, -19.2144, -11.2816,   0.8041,\n",
            "           3.6840,   5.7973,  12.4359],\n",
            "        [  2.7578,   0.9482,   0.8270,   3.7501, -12.9793, -11.2225,  10.5322,\n",
            "           9.5250,   6.0278,   8.4317],\n",
            "        [  0.1061,   4.5563,   8.1057,   9.1956,  -6.8615, -19.1964,   7.3704,\n",
            "           4.9243,  10.1201,   4.4382],\n",
            "        [ -6.7203,   7.2554,   4.4878,  11.0586, -11.8598,  -7.9752,   0.8498,\n",
            "           2.3841,  19.5598,   6.0042],\n",
            "        [  6.1545,  -1.1373,   0.6223,   2.9399,  -7.1333, -15.0488,  11.8342,\n",
            "           7.2405,   8.0661,   9.3744],\n",
            "        [  2.9931,   9.9924,  -3.3279,  23.6992, -12.7191,  -1.7907,   5.1655,\n",
            "         -11.2840,  18.3280,  16.7940],\n",
            "        [  3.2908,   4.9423,   4.9608,   5.8294, -12.5957, -14.6742,  10.8678,\n",
            "          13.6908,   4.2622,  21.2772],\n",
            "        [  1.2665,   8.1877,  -0.9516,  11.3978, -13.6777,  -3.6204,   6.2259,\n",
            "           3.2523,  17.5700,   6.1442],\n",
            "        [ -2.5937,  10.5778,   0.2793,   8.7160,  -2.5058, -16.4206,   2.0132,\n",
            "           7.6104,  13.8619,   8.6998],\n",
            "        [  2.2275,  10.3672,   3.8007,   9.0045, -14.5232,  -7.8096,  13.7088,\n",
            "           4.0793,   6.2763,  13.3875],\n",
            "        [ -1.2867,   6.5271,   3.6935,  18.0371, -14.7978,  -1.3153,  10.9847,\n",
            "          -5.0099,  19.6272,   1.8473],\n",
            "        [ -6.8438,  12.9412,   5.6205,  10.8567, -12.2141,  -7.2039,   7.9435,\n",
            "          -6.7737,  17.1957,  12.2398],\n",
            "        [ -6.4526,   5.3334,  -0.4833,   5.5554, -14.1567,  -6.9638,  15.3301,\n",
            "          -3.8788,  10.4848,  19.1488],\n",
            "        [ -1.7947,   9.6888,  -2.1145,  14.3420, -17.5019,  -9.7780,   7.8209,\n",
            "           3.7117,  12.9411,   7.5295],\n",
            "        [  5.2664,   1.4616,  -3.4295,  13.3843, -16.2817, -13.9092,  15.9603,\n",
            "           6.9542,  13.6413,  21.7877],\n",
            "        [ 10.7443,   9.6695,  -7.0517,  -2.2403, -13.5469,  -8.9778,   5.6935,\n",
            "          10.0251,  15.6498,  14.3684],\n",
            "        [  8.7940,   2.6995,   4.5427,  -0.8987,  -7.5363, -14.1275,  26.1295,\n",
            "          -5.1764,  15.3524,   8.0853],\n",
            "        [ -1.2758,   8.6825,   2.3374,  10.3170,  -4.2919, -22.4614,  25.1539,\n",
            "           5.6235,   5.0758,  13.9662],\n",
            "        [ -1.5761,   4.4690,  16.3136,  17.4621,  -5.9020, -13.7738,  14.2051,\n",
            "          10.0547,  12.2348,   9.4092],\n",
            "        [  4.3298,  -0.1303,  15.3681,  -0.8958, -10.8762, -15.3292,   4.0998,\n",
            "           3.8206,  11.4144,   1.1719],\n",
            "        [ -9.7285,   4.2429,   8.9249,  10.2063,  -9.6066,  -8.2306,   7.7355,\n",
            "          -1.4849,   5.5442,  11.3706],\n",
            "        [  6.2677, -14.7121,  -0.2149,   2.7100,  -6.0375, -10.8526,  24.6370,\n",
            "          11.5177,   9.1734,  14.3815],\n",
            "        [  2.4468,  -1.2512,  10.6134,   6.9972,  -5.2731, -11.2600,  14.4126,\n",
            "          -2.4877,  12.9996,   8.5071],\n",
            "        [  3.0541,  -1.6121,   4.0847,   0.2314,  -4.3433,   0.2403,   9.1693,\n",
            "          -2.2464,  16.4382,   8.3576],\n",
            "        [  1.6863,   2.6611,  -4.0615,   0.9936,  -2.6138,  -3.6457,  18.6106,\n",
            "           4.9523,  12.2895,  14.2656],\n",
            "        [ -0.1739,   8.8748,   4.5768,  13.0915, -10.1048,  -5.5453,   4.1468,\n",
            "          -0.4313,  10.2088,  17.8851],\n",
            "        [ -0.8031,   4.4703,   4.1815,  10.6834, -11.0631,  -4.1103,   3.2556,\n",
            "          -1.0321,  16.5260,   2.6559],\n",
            "        [ -4.7727,  12.6993,   0.0954,  15.2425, -13.9488, -11.1040,   9.5975,\n",
            "           7.9811,   4.3341,  -0.0923],\n",
            "        [  0.6142,   8.7612,   5.0169,   1.1542, -11.0246, -11.4624,   4.6963,\n",
            "          -3.2052,   7.7353,  10.2375],\n",
            "        [ 12.1828,   4.3760, -10.3540,  13.0220, -14.1537,  -1.2775,   1.8066,\n",
            "          -2.3821,  14.5236,  13.8433],\n",
            "        [ -4.4627,   5.6869,   0.7281,  12.4434,  -7.5052, -11.4740,  12.8394,\n",
            "           6.8762,  12.3049,  12.7765],\n",
            "        [  2.2597,  -2.6810,  -3.1623,  -4.5466, -23.5025, -12.0768,  15.7092,\n",
            "          13.9252,  11.8219,  17.2552],\n",
            "        [ -1.7015,  10.0227,   2.5749,  -0.6348, -13.1997, -14.0166,   7.8109,\n",
            "           9.3323,  11.4894,  13.9002],\n",
            "        [ -1.2276,   7.4584,   5.1395,   4.1540,   0.2167, -10.8070,  21.5786,\n",
            "           4.7084,  12.5859,   5.6620],\n",
            "        [ -4.6088,   0.7393,  12.5987,  -1.6945, -11.3938, -22.6006,  13.7336,\n",
            "          -1.3241,   8.5022,  13.6458],\n",
            "        [ -1.0850,  11.4451,  10.1996,   6.6950, -11.5473,  -8.0883,  10.8981,\n",
            "           0.9707,  11.6260,  16.7142],\n",
            "        [  2.1921,   6.1128,   6.0969,   7.1751,  -7.1387,  -6.3706,   6.8051,\n",
            "           6.7720,  11.3895,  11.7721],\n",
            "        [ -3.2614,   1.3336,  -0.1606,   2.5225, -16.0342,  -7.2293,  13.7908,\n",
            "           1.5259,   3.7784,   9.1452],\n",
            "        [  0.9778,  -5.7057,  11.2003,  11.8935, -13.6821,  -5.6970,  20.2138,\n",
            "          -4.5202,   4.9075,  22.5481],\n",
            "        [ -6.7640,   9.6372,   8.4169,   7.9084,  -5.0729, -13.6539,   3.3496,\n",
            "          -2.2701,  18.4701,   2.8949],\n",
            "        [ -0.6859,   4.5853,   3.7168,   6.3675, -12.8268, -13.8867,   2.8470,\n",
            "           9.7750,  15.4844,  17.6946],\n",
            "        [  2.4052,   3.6157,  -3.1339,   7.5563,  -8.6732, -16.8433,  11.2494,\n",
            "          -2.1112,   1.2328,  15.4827],\n",
            "        [ -5.5745,   6.9980,  -0.8301,  15.9635, -14.2236,  -3.4258,   2.0210,\n",
            "          -9.0162,  14.9601,  17.6193]])\n"
          ],
          "name": "stdout"
        }
      ]
    },
    {
      "cell_type": "markdown",
      "metadata": {
        "id": "rwtTUh7v6mDQ",
        "colab_type": "text"
      },
      "source": [
        "Now we have 10 outputs for our network. We want to pass in an image to our network and get out a probability distribution over the classes that tells us the likely class(es) the image belongs to. Something that looks like this:\n",
        "<img src='https://github.com/udacity/deep-learning-v2-pytorch/blob/master/intro-to-pytorch/assets/image_distribution.png?raw=1' width=500px>\n",
        "\n",
        "Here we see that the probability for each class is roughly the same. This is representing an untrained network, it hasn't seen any data yet so it just returns a uniform distribution with equal probabilities for each class.\n",
        "\n",
        "To calculate this probability distribution, we often use the [**softmax** function](https://en.wikipedia.org/wiki/Softmax_function). Mathematically this looks like\n",
        "\n",
        "$$\n",
        "\\Large \\sigma(x_i) = \\cfrac{e^{x_i}}{\\sum_k^K{e^{x_k}}}\n",
        "$$\n",
        "\n",
        "What this does is squish each input $x_i$ between 0 and 1 and normalizes the values to give you a proper probability distribution where the probabilites sum up to one.\n",
        "\n",
        "> **Exercise:** Implement a function `softmax` that performs the softmax calculation and returns probability distributions for each example in the batch. Note that you'll need to pay attention to the shapes when doing this. If you have a tensor `a` with shape `(64, 10)` and a tensor `b` with shape `(64,)`, doing `a/b` will give you an error because PyTorch will try to do the division across the columns (called broadcasting) but you'll get a size mismatch. The way to think about this is for each of the 64 examples, you only want to divide by one value, the sum in the denominator. So you need `b` to have a shape of `(64, 1)`. This way PyTorch will divide the 10 values in each row of `a` by the one value in each row of `b`. Pay attention to how you take the sum as well. You'll need to define the `dim` keyword in `torch.sum`. Setting `dim=0` takes the sum across the rows while `dim=1` takes the sum across the columns."
      ]
    },
    {
      "cell_type": "code",
      "metadata": {
        "id": "XqEoxyIQ6mDQ",
        "colab_type": "code",
        "outputId": "6233a107-31bb-40af-dd11-23c939a3c89e",
        "colab": {
          "base_uri": "https://localhost:8080/",
          "height": 170
        }
      },
      "source": [
        "def softmax(x):\n",
        "    ## TODO: Implement the softmax function here\n",
        "    return torch.exp(x)/torch.sum(torch.exp(x),dim=1).view(-1,1)\n",
        "\n",
        "\"\"\"\n",
        "t=torch.sum(torch.exp(out),dim=1).reshape(64,1)\n",
        "q=torch.exp(out)\n",
        "\n",
        "print(q.shape)\n",
        "print(t.shape)\n",
        "\n",
        "#print((torch.sum(torch.exp(out),dim=1)).shape)\n",
        "\"\"\"\n",
        "\n",
        "# Here, out should be the output of the network in the previous excercise with shape (64,10)\n",
        "probabilities = softmax(out)\n",
        "\n",
        "# Does it have the right shape? Should be (64, 10)\n",
        "print(probabilities.shape)\n",
        "# Does it sum to 1?\n",
        "print(probabilities.sum(dim=1))"
      ],
      "execution_count": 6,
      "outputs": [
        {
          "output_type": "stream",
          "text": [
            "torch.Size([64, 10])\n",
            "tensor([1.0000, 1.0000, 1.0000, 1.0000, 1.0000, 1.0000, 1.0000, 1.0000, 1.0000,\n",
            "        1.0000, 1.0000, 1.0000, 1.0000, 1.0000, 1.0000, 1.0000, 1.0000, 1.0000,\n",
            "        1.0000, 1.0000, 1.0000, 1.0000, 1.0000, 1.0000, 1.0000, 1.0000, 1.0000,\n",
            "        1.0000, 1.0000, 1.0000, 1.0000, 1.0000, 1.0000, 1.0000, 1.0000, 1.0000,\n",
            "        1.0000, 1.0000, 1.0000, 1.0000, 1.0000, 1.0000, 1.0000, 1.0000, 1.0000,\n",
            "        1.0000, 1.0000, 1.0000, 1.0000, 1.0000, 1.0000, 1.0000, 1.0000, 1.0000,\n",
            "        1.0000, 1.0000, 1.0000, 1.0000, 1.0000, 1.0000, 1.0000, 1.0000, 1.0000,\n",
            "        1.0000])\n"
          ],
          "name": "stdout"
        }
      ]
    },
    {
      "cell_type": "markdown",
      "metadata": {
        "id": "OUiCfuN66mDW",
        "colab_type": "text"
      },
      "source": [
        "## Building networks with PyTorch\n",
        "\n",
        "PyTorch provides a module `nn` that makes building networks much simpler. Here I'll show you how to build the same one as above with 784 inputs, 256 hidden units, 10 output units and a softmax output."
      ]
    },
    {
      "cell_type": "code",
      "metadata": {
        "id": "bHBb_IME6mDX",
        "colab_type": "code",
        "colab": {}
      },
      "source": [
        "from torch import nn"
      ],
      "execution_count": 0,
      "outputs": []
    },
    {
      "cell_type": "code",
      "metadata": {
        "id": "b4iRyLfC6mDa",
        "colab_type": "code",
        "colab": {}
      },
      "source": [
        "class Network(nn.Module):\n",
        "    def __init__(self):\n",
        "        super().__init__()\n",
        "        \n",
        "        # Inputs to hidden layer linear transformation\n",
        "        self.hidden = nn.Linear(784, 256)\n",
        "        # Output layer, 10 units - one for each digit\n",
        "        self.output = nn.Linear(256, 10)\n",
        "        \n",
        "        # Define sigmoid activation and softmax output \n",
        "        self.sigmoid = nn.Sigmoid()\n",
        "        self.softmax = nn.Softmax(dim=1)\n",
        "        \n",
        "    def forward(self, x):\n",
        "        # Pass the input tensor through each of our operations\n",
        "        x = self.hidden(x)\n",
        "        x = self.sigmoid(x)\n",
        "        x = self.output(x)\n",
        "        x = self.softmax(x)\n",
        "        \n",
        "        return x"
      ],
      "execution_count": 0,
      "outputs": []
    },
    {
      "cell_type": "markdown",
      "metadata": {
        "id": "oFe_YiGj6mDc",
        "colab_type": "text"
      },
      "source": [
        "Let's go through this bit by bit.\n",
        "\n",
        "```python\n",
        "class Network(nn.Module):\n",
        "```\n",
        "\n",
        "Here we're inheriting from `nn.Module`. Combined with `super().__init__()` this creates a class that tracks the architecture and provides a lot of useful methods and attributes. It is mandatory to inherit from `nn.Module` when you're creating a class for your network. The name of the class itself can be anything.\n",
        "\n",
        "```python\n",
        "self.hidden = nn.Linear(784, 256)\n",
        "```\n",
        "\n",
        "This line creates a module for a linear transformation, $x\\mathbf{W} + b$, with 784 inputs and 256 outputs and assigns it to `self.hidden`. The module automatically creates the weight and bias tensors which we'll use in the `forward` method. You can access the weight and bias tensors once the network (`net`) is created with `net.hidden.weight` and `net.hidden.bias`.\n",
        "\n",
        "```python\n",
        "self.output = nn.Linear(256, 10)\n",
        "```\n",
        "\n",
        "Similarly, this creates another linear transformation with 256 inputs and 10 outputs.\n",
        "\n",
        "```python\n",
        "self.sigmoid = nn.Sigmoid()\n",
        "self.softmax = nn.Softmax(dim=1)\n",
        "```\n",
        "\n",
        "Here I defined operations for the sigmoid activation and softmax output. Setting `dim=1` in `nn.Softmax(dim=1)` calculates softmax across the columns.\n",
        "\n",
        "```python\n",
        "def forward(self, x):\n",
        "```\n",
        "\n",
        "PyTorch networks created with `nn.Module` must have a `forward` method defined. It takes in a tensor `x` and passes it through the operations you defined in the `__init__` method.\n",
        "\n",
        "```python\n",
        "x = self.hidden(x)\n",
        "x = self.sigmoid(x)\n",
        "x = self.output(x)\n",
        "x = self.softmax(x)\n",
        "```\n",
        "\n",
        "Here the input tensor `x` is passed through each operation and reassigned to `x`. We can see that the input tensor goes through the hidden layer, then a sigmoid function, then the output layer, and finally the softmax function. It doesn't matter what you name the variables here, as long as the inputs and outputs of the operations match the network architecture you want to build. The order in which you define things in the `__init__` method doesn't matter, but you'll need to sequence the operations correctly in the `forward` method.\n",
        "\n",
        "Now we can create a `Network` object."
      ]
    },
    {
      "cell_type": "code",
      "metadata": {
        "id": "X0syLOxE6mDd",
        "colab_type": "code",
        "outputId": "44217cf1-1df3-4eb9-87ae-c0a12b502155",
        "colab": {
          "base_uri": "https://localhost:8080/",
          "height": 119
        }
      },
      "source": [
        "# Create the network and look at it's text representation\n",
        "model = Network()\n",
        "model"
      ],
      "execution_count": 9,
      "outputs": [
        {
          "output_type": "execute_result",
          "data": {
            "text/plain": [
              "Network(\n",
              "  (hidden): Linear(in_features=784, out_features=256, bias=True)\n",
              "  (output): Linear(in_features=256, out_features=10, bias=True)\n",
              "  (sigmoid): Sigmoid()\n",
              "  (softmax): Softmax(dim=1)\n",
              ")"
            ]
          },
          "metadata": {
            "tags": []
          },
          "execution_count": 9
        }
      ]
    },
    {
      "cell_type": "markdown",
      "metadata": {
        "id": "S7K-mrVM6mDf",
        "colab_type": "text"
      },
      "source": [
        "You can define the network somewhat more concisely and clearly using the `torch.nn.functional` module. This is the most common way you'll see networks defined as many operations are simple element-wise functions. We normally import this module as `F`, `import torch.nn.functional as F`."
      ]
    },
    {
      "cell_type": "code",
      "metadata": {
        "id": "iT6ApBz56mDg",
        "colab_type": "code",
        "colab": {}
      },
      "source": [
        "import torch.nn.functional as F\n",
        "\n",
        "class Network(nn.Module):\n",
        "    def __init__(self):\n",
        "        super().__init__()\n",
        "        # Inputs to hidden layer linear transformation\n",
        "        self.hidden = nn.Linear(784, 256)\n",
        "        # Output layer, 10 units - one for each digit\n",
        "        self.output = nn.Linear(256, 10)\n",
        "        \n",
        "    def forward(self, x):\n",
        "        # Hidden layer with sigmoid activation\n",
        "        x = F.sigmoid(self.hidden(x))\n",
        "        # Output layer with softmax activation\n",
        "        x = F.softmax(self.output(x), dim=1)\n",
        "        \n",
        "        return x"
      ],
      "execution_count": 0,
      "outputs": []
    },
    {
      "cell_type": "markdown",
      "metadata": {
        "id": "8l9Fp45x6mDj",
        "colab_type": "text"
      },
      "source": [
        "### Activation functions\n",
        "\n",
        "So far we've only been looking at the sigmoid activation function, but in general any function can be used as an activation function. The only requirement is that for a network to approximate a non-linear function, the activation functions must be non-linear. Here are a few more examples of common activation functions: Tanh (hyperbolic tangent), and ReLU (rectified linear unit).\n",
        "\n",
        "<img src=\"https://github.com/udacity/deep-learning-v2-pytorch/blob/master/intro-to-pytorch/assets/activation.png?raw=1\" width=700px>\n",
        "\n",
        "In practice, the ReLU function is used almost exclusively as the activation function for hidden layers."
      ]
    },
    {
      "cell_type": "markdown",
      "metadata": {
        "id": "mK_vQgNm6mDj",
        "colab_type": "text"
      },
      "source": [
        "### Your Turn to Build a Network\n",
        "\n",
        "<img src=\"https://github.com/udacity/deep-learning-v2-pytorch/blob/master/intro-to-pytorch/assets/mlp_mnist.png?raw=1\" width=600px>\n",
        "\n",
        "> **Exercise:** Create a network with 784 input units, a hidden layer with 128 units and a ReLU activation, then a hidden layer with 64 units and a ReLU activation, and finally an output layer with a softmax activation as shown above. You can use a ReLU activation with the `nn.ReLU` module or `F.relu` function.\n",
        "\n",
        "It's good practice to name your layers by their type of network, for instance 'fc' to represent a fully-connected layer. As you code your solution, use `fc1`, `fc2`, and `fc3` as your layer names."
      ]
    },
    {
      "cell_type": "code",
      "metadata": {
        "scrolled": true,
        "id": "3dLFlt_86mDn",
        "colab_type": "code",
        "outputId": "7e3c14c7-fe66-4cad-f19e-b339b40d5b86",
        "colab": {
          "base_uri": "https://localhost:8080/",
          "height": 102
        }
      },
      "source": [
        "## Your solution here\n",
        "\n",
        "import torch.nn.functional as F\n",
        "\n",
        "class Network(nn.Module):\n",
        "    def __init__(self):\n",
        "        super().__init__()\n",
        "        # Inputs to two hidden layer linear transformation\n",
        "        self.fc1 = nn.Linear(784, 128)\n",
        "\n",
        "        self.fc2 = nn.Linear(128, 64)\n",
        "        # Output layer, 10 units - one for each digit\n",
        "        self.output = nn.Linear(64, 10)\n",
        "        \n",
        "    def forward(self, x):\n",
        "        # Hidden layer with sigmoid activation\n",
        "        x = F.relu(self.fc1(x))\n",
        "        x = F.relu(self.fc2(x))\n",
        "        # Output layer with softmax activation\n",
        "        x = F.softmax(self.output(x), dim=1)\n",
        "        \n",
        "        return x\n",
        "\n",
        "model=Network()\n",
        "model\n"
      ],
      "execution_count": 11,
      "outputs": [
        {
          "output_type": "execute_result",
          "data": {
            "text/plain": [
              "Network(\n",
              "  (fc1): Linear(in_features=784, out_features=128, bias=True)\n",
              "  (fc2): Linear(in_features=128, out_features=64, bias=True)\n",
              "  (output): Linear(in_features=64, out_features=10, bias=True)\n",
              ")"
            ]
          },
          "metadata": {
            "tags": []
          },
          "execution_count": 11
        }
      ]
    },
    {
      "cell_type": "markdown",
      "metadata": {
        "id": "0HU2FfL_6mDs",
        "colab_type": "text"
      },
      "source": [
        "### Initializing weights and biases\n",
        "\n",
        "The weights and such are automatically initialized for you, but it's possible to customize how they are initialized. The weights and biases are tensors attached to the layer you defined, you can get them with `model.fc1.weight` for instance."
      ]
    },
    {
      "cell_type": "code",
      "metadata": {
        "id": "SVN2e_iL6mDt",
        "colab_type": "code",
        "outputId": "fb0f839b-4c6a-4f1c-ae13-92bc13564d24",
        "colab": {
          "base_uri": "https://localhost:8080/",
          "height": 629
        }
      },
      "source": [
        "print(model.fc1.weight)\n",
        "print(model.fc1.bias)"
      ],
      "execution_count": 12,
      "outputs": [
        {
          "output_type": "stream",
          "text": [
            "Parameter containing:\n",
            "tensor([[ 0.0089, -0.0086,  0.0173,  ..., -0.0243, -0.0209,  0.0039],\n",
            "        [-0.0039,  0.0260, -0.0243,  ..., -0.0317, -0.0092, -0.0349],\n",
            "        [-0.0305, -0.0182,  0.0285,  ...,  0.0082,  0.0095, -0.0103],\n",
            "        ...,\n",
            "        [ 0.0030, -0.0253, -0.0290,  ..., -0.0119, -0.0241,  0.0081],\n",
            "        [-0.0073,  0.0259, -0.0220,  ...,  0.0068, -0.0068,  0.0126],\n",
            "        [-0.0192, -0.0001,  0.0006,  ...,  0.0114, -0.0022, -0.0025]],\n",
            "       requires_grad=True)\n",
            "Parameter containing:\n",
            "tensor([-1.2975e-03, -2.4553e-02,  2.8016e-02, -3.3930e-02, -2.4160e-02,\n",
            "         2.6589e-02, -2.5056e-02, -2.7412e-02,  1.2260e-02,  3.5413e-02,\n",
            "        -3.0990e-02, -2.5326e-02, -1.2988e-02, -1.6012e-02,  2.5122e-02,\n",
            "         2.2635e-02, -7.9935e-03,  2.3813e-02, -2.6387e-02, -2.3515e-02,\n",
            "         1.0030e-02,  3.5133e-02, -1.5455e-02, -1.6782e-02, -2.5496e-02,\n",
            "        -2.0899e-02,  3.7652e-03,  7.6226e-03, -3.0165e-02,  1.3120e-02,\n",
            "         3.2792e-02, -1.6713e-02,  2.1226e-02, -3.1136e-02,  1.2205e-02,\n",
            "         2.6468e-04, -2.2804e-02, -1.1176e-02,  1.1186e-02, -9.1293e-03,\n",
            "         8.2418e-03,  8.4803e-04, -1.2235e-02, -1.3999e-02, -2.6115e-02,\n",
            "         1.7004e-02, -1.7967e-03,  9.8007e-03, -5.0229e-03, -5.1563e-03,\n",
            "        -1.5615e-02,  1.0965e-02, -1.6667e-02, -2.2666e-02,  1.9430e-02,\n",
            "         1.6404e-02, -1.7899e-02, -6.1146e-03,  1.3556e-02,  1.1774e-02,\n",
            "        -2.6365e-02,  3.2739e-02,  2.9603e-02, -9.8086e-03, -8.7049e-03,\n",
            "        -2.0953e-02,  3.5679e-03, -3.4080e-02, -9.6745e-03,  1.3167e-02,\n",
            "         2.4819e-02, -1.0578e-02,  2.1527e-02,  2.9516e-02, -2.2389e-02,\n",
            "         1.4449e-02, -2.3336e-02,  1.2202e-02, -1.5752e-02, -1.7640e-02,\n",
            "        -3.4445e-02,  3.3867e-05, -1.6818e-02,  3.0936e-02,  2.0149e-02,\n",
            "        -1.7071e-02,  1.8585e-02, -2.8525e-02, -3.2951e-02,  1.8427e-02,\n",
            "        -2.3070e-02, -2.9805e-03, -2.3804e-03, -3.4781e-03,  2.7179e-02,\n",
            "        -2.0152e-02, -6.5140e-03, -2.5456e-02, -1.2307e-02, -1.8490e-02,\n",
            "        -2.9878e-02,  8.8389e-03,  1.5398e-02,  2.4376e-02,  2.2111e-02,\n",
            "         3.1436e-03,  2.7185e-02, -1.1717e-02,  3.4859e-02, -8.4806e-03,\n",
            "        -3.4676e-02,  2.0633e-02,  2.5759e-02,  1.0799e-03,  2.2576e-02,\n",
            "        -1.6838e-02, -1.8131e-02, -2.8763e-02,  3.4493e-02,  1.0856e-02,\n",
            "        -2.8781e-02, -3.5332e-02,  2.8572e-02,  2.8334e-02,  5.4810e-03,\n",
            "         3.2003e-02,  2.4137e-02,  2.2712e-02], requires_grad=True)\n"
          ],
          "name": "stdout"
        }
      ]
    },
    {
      "cell_type": "markdown",
      "metadata": {
        "id": "H_7RQ43_6mDw",
        "colab_type": "text"
      },
      "source": [
        "For custom initialization, we want to modify these tensors in place. These are actually autograd *Variables*, so we need to get back the actual tensors with `model.fc1.weight.data`. Once we have the tensors, we can fill them with zeros (for biases) or random normal values."
      ]
    },
    {
      "cell_type": "code",
      "metadata": {
        "id": "CyTM28JH6mDx",
        "colab_type": "code",
        "outputId": "d19afd36-9733-4377-c389-5de85769f2a7",
        "colab": {
          "base_uri": "https://localhost:8080/",
          "height": 119
        }
      },
      "source": [
        "# Set biases to all zeros\n",
        "model.fc1.bias.data.fill_(0)"
      ],
      "execution_count": 13,
      "outputs": [
        {
          "output_type": "execute_result",
          "data": {
            "text/plain": [
              "tensor([0., 0., 0., 0., 0., 0., 0., 0., 0., 0., 0., 0., 0., 0., 0., 0., 0., 0., 0., 0., 0., 0., 0., 0.,\n",
              "        0., 0., 0., 0., 0., 0., 0., 0., 0., 0., 0., 0., 0., 0., 0., 0., 0., 0., 0., 0., 0., 0., 0., 0.,\n",
              "        0., 0., 0., 0., 0., 0., 0., 0., 0., 0., 0., 0., 0., 0., 0., 0., 0., 0., 0., 0., 0., 0., 0., 0.,\n",
              "        0., 0., 0., 0., 0., 0., 0., 0., 0., 0., 0., 0., 0., 0., 0., 0., 0., 0., 0., 0., 0., 0., 0., 0.,\n",
              "        0., 0., 0., 0., 0., 0., 0., 0., 0., 0., 0., 0., 0., 0., 0., 0., 0., 0., 0., 0., 0., 0., 0., 0.,\n",
              "        0., 0., 0., 0., 0., 0., 0., 0.])"
            ]
          },
          "metadata": {
            "tags": []
          },
          "execution_count": 13
        }
      ]
    },
    {
      "cell_type": "code",
      "metadata": {
        "id": "R-Pq0SWf6mDz",
        "colab_type": "code",
        "outputId": "cd684f8c-8834-447a-f1b8-34c27de62552",
        "colab": {
          "base_uri": "https://localhost:8080/",
          "height": 136
        }
      },
      "source": [
        "# sample from random normal with standard dev = 0.01\n",
        "model.fc1.weight.data.normal_(std=0.01)"
      ],
      "execution_count": 14,
      "outputs": [
        {
          "output_type": "execute_result",
          "data": {
            "text/plain": [
              "tensor([[ 0.0032,  0.0294, -0.0094,  ..., -0.0037,  0.0139,  0.0104],\n",
              "        [ 0.0032,  0.0133,  0.0051,  ..., -0.0189,  0.0159,  0.0031],\n",
              "        [-0.0135, -0.0036,  0.0036,  ..., -0.0014, -0.0019,  0.0032],\n",
              "        ...,\n",
              "        [-0.0112,  0.0106,  0.0166,  ..., -0.0006, -0.0026,  0.0111],\n",
              "        [-0.0030, -0.0293,  0.0021,  ..., -0.0060, -0.0019, -0.0021],\n",
              "        [-0.0009, -0.0061,  0.0020,  ...,  0.0054, -0.0045,  0.0052]])"
            ]
          },
          "metadata": {
            "tags": []
          },
          "execution_count": 14
        }
      ]
    },
    {
      "cell_type": "markdown",
      "metadata": {
        "id": "oJNxXhkY6mD2",
        "colab_type": "text"
      },
      "source": [
        "### Forward pass\n",
        "\n",
        "Now that we have a network, let's see what happens when we pass in an image."
      ]
    },
    {
      "cell_type": "code",
      "metadata": {
        "id": "GA4vZsLr6mD2",
        "colab_type": "code",
        "outputId": "0ff5e090-6bdd-4904-9457-7c0f2a740d1b",
        "colab": {
          "base_uri": "https://localhost:8080/",
          "height": 252
        }
      },
      "source": [
        "# Grab some data \n",
        "dataiter = iter(trainloader)\n",
        "images, labels = dataiter.next()\n",
        "\n",
        "# Resize images into a 1D vector, new shape is (batch size, color channels, image pixels) \n",
        "images.resize_(64, 1, 784)\n",
        "# or images.resize_(images.shape[0], 1, 784) to automatically get batch size\n",
        "\n",
        "# Forward pass through the network\n",
        "img_idx = 0\n",
        "ps = model.forward(images[img_idx,:])\n",
        "\n",
        "img = images[img_idx]\n",
        "helper.view_classify(img.view(1, 28, 28), ps)"
      ],
      "execution_count": 15,
      "outputs": [
        {
          "output_type": "display_data",
          "data": {
            "image/png": "[encoded data removed]",
            "text/plain": [
              "<Figure size 432x648 with 2 Axes>"
            ]
          },
          "metadata": {
            "tags": [],
            "image/png": {
              "width": 424,
              "height": 235
            }
          }
        }
      ]
    },
    {
      "cell_type": "markdown",
      "metadata": {
        "id": "QR_HT8Of6mD7",
        "colab_type": "text"
      },
      "source": [
        "As you can see above, our network has basically no idea what this digit is. It's because we haven't trained it yet, all the weights are random!\n",
        "\n",
        "### Using `nn.Sequential`\n",
        "\n",
        "PyTorch provides a convenient way to build networks like this where a tensor is passed sequentially through operations, `nn.Sequential` ([documentation](https://pytorch.org/docs/master/nn.html#torch.nn.Sequential)). Using this to build the equivalent network:"
      ]
    },
    {
      "cell_type": "markdown",
      "metadata": {
        "id": "1vYQB-vpsyfS",
        "colab_type": "text"
      },
      "source": [
        "Missing helper.py file \n",
        "We will load using below command"
      ]
    },
    {
      "cell_type": "code",
      "metadata": {
        "id": "ae8LbiCqtGG2",
        "colab_type": "code",
        "colab": {
          "base_uri": "https://localhost:8080/",
          "height": 136
        },
        "outputId": "2901444f-63cd-474f-869b-bb18f5c961d0"
      },
      "source": [
        "!wget -c https://raw.githubusercontent.com/udacity/deep-learning-v2-pytorch/master/intro-to-pytorch/helper.py"
      ],
      "execution_count": 16,
      "outputs": [
        {
          "output_type": "stream",
          "text": [
            "--2020-01-10 20:01:34--  https://raw.githubusercontent.com/udacity/deep-learning-v2-pytorch/master/intro-to-pytorch/helper.py\n",
            "Resolving raw.githubusercontent.com (raw.githubusercontent.com)... 151.101.0.133, 151.101.64.133, 151.101.128.133, ...\n",
            "Connecting to raw.githubusercontent.com (raw.githubusercontent.com)|151.101.0.133|:443... connected.\n",
            "HTTP request sent, awaiting response... 416 Range Not Satisfiable\n",
            "\n",
            "    The file is already fully retrieved; nothing to do.\n",
            "\n"
          ],
          "name": "stdout"
        }
      ]
    },
    {
      "cell_type": "code",
      "metadata": {
        "id": "qo9D3vsf6mD9",
        "colab_type": "code",
        "outputId": "575096ba-82a2-454e-fbc6-008045be9984",
        "colab": {
          "base_uri": "https://localhost:8080/",
          "height": 388
        }
      },
      "source": [
        "# Hyperparameters for our network\n",
        "input_size = 784\n",
        "hidden_sizes = [128, 64]\n",
        "output_size = 10\n",
        "\n",
        "# Build a feed-forward network\n",
        "model = nn.Sequential(nn.Linear(input_size, hidden_sizes[0]),\n",
        "                      nn.ReLU(),\n",
        "                      nn.Linear(hidden_sizes[0], hidden_sizes[1]),\n",
        "                      nn.ReLU(),\n",
        "                      nn.Linear(hidden_sizes[1], output_size),\n",
        "                      nn.Softmax(dim=1))\n",
        "print(model)\n",
        "\n",
        "# Forward pass through the network and display output\n",
        "images, labels = next(iter(trainloader))\n",
        "images.resize_(images.shape[0], 1, 784)\n",
        "ps = model.forward(images[0,:])\n",
        "helper.view_classify(images[0].view(1, 28, 28), ps)"
      ],
      "execution_count": 17,
      "outputs": [
        {
          "output_type": "stream",
          "text": [
            "Sequential(\n",
            "  (0): Linear(in_features=784, out_features=128, bias=True)\n",
            "  (1): ReLU()\n",
            "  (2): Linear(in_features=128, out_features=64, bias=True)\n",
            "  (3): ReLU()\n",
            "  (4): Linear(in_features=64, out_features=10, bias=True)\n",
            "  (5): Softmax(dim=1)\n",
            ")\n"
          ],
          "name": "stdout"
        },
        {
          "output_type": "display_data",
          "data": {
            "image/png": "[encoded data removed]",
            "text/plain": [
              "<Figure size 432x648 with 2 Axes>"
            ]
          },
          "metadata": {
            "tags": [],
            "image/png": {
              "width": 424,
              "height": 235
            }
          }
        }
      ]
    },
    {
      "cell_type": "markdown",
      "metadata": {
        "id": "eb_1B1W46mEG",
        "colab_type": "text"
      },
      "source": [
        "Here our model is the same as before: 784 input units, a hidden layer with 128 units, ReLU activation, 64 unit hidden layer, another ReLU, then the output layer with 10 units, and the softmax output.\n",
        "\n",
        "The operations are available by passing in the appropriate index. For example, if you want to get first Linear operation and look at the weights, you'd use `model[0]`."
      ]
    },
    {
      "cell_type": "code",
      "metadata": {
        "id": "hMtIt-Ef6mEH",
        "colab_type": "code",
        "outputId": "c445e81d-fdde-4d8f-95fc-98d1bc7a7fd4",
        "colab": {
          "base_uri": "https://localhost:8080/",
          "height": 187
        }
      },
      "source": [
        "print(model[0])\n",
        "model[0].weight"
      ],
      "execution_count": 18,
      "outputs": [
        {
          "output_type": "stream",
          "text": [
            "Linear(in_features=784, out_features=128, bias=True)\n"
          ],
          "name": "stdout"
        },
        {
          "output_type": "execute_result",
          "data": {
            "text/plain": [
              "Parameter containing:\n",
              "tensor([[-0.0085, -0.0105,  0.0339,  ..., -0.0043, -0.0051,  0.0219],\n",
              "        [-0.0247, -0.0081,  0.0168,  ...,  0.0339, -0.0104, -0.0249],\n",
              "        [-0.0187,  0.0104,  0.0229,  ..., -0.0310, -0.0138, -0.0091],\n",
              "        ...,\n",
              "        [-0.0224,  0.0218, -0.0003,  ...,  0.0101,  0.0070,  0.0217],\n",
              "        [ 0.0022, -0.0324, -0.0331,  ...,  0.0146,  0.0352,  0.0214],\n",
              "        [-0.0301,  0.0193,  0.0247,  ...,  0.0138, -0.0239,  0.0103]],\n",
              "       requires_grad=True)"
            ]
          },
          "metadata": {
            "tags": []
          },
          "execution_count": 18
        }
      ]
    },
    {
      "cell_type": "markdown",
      "metadata": {
        "id": "RplpoOR56mEK",
        "colab_type": "text"
      },
      "source": [
        "You can also pass in an `OrderedDict` to name the individual layers and operations, instead of using incremental integers. Note that dictionary keys must be unique, so _each operation must have a different name_."
      ]
    },
    {
      "cell_type": "code",
      "metadata": {
        "id": "Dyj4xb476mEL",
        "colab_type": "code",
        "outputId": "e91ed3a1-3199-4930-e778-fa99dff3769d",
        "colab": {
          "base_uri": "https://localhost:8080/",
          "height": 153
        }
      },
      "source": [
        "from collections import OrderedDict\n",
        "model = nn.Sequential(OrderedDict([\n",
        "                      ('fc1', nn.Linear(input_size, hidden_sizes[0])),\n",
        "                      ('relu1', nn.ReLU()),\n",
        "                      ('fc2', nn.Linear(hidden_sizes[0], hidden_sizes[1])),\n",
        "                      ('relu2', nn.ReLU()),\n",
        "                      ('output', nn.Linear(hidden_sizes[1], output_size)),\n",
        "                      ('softmax', nn.Softmax(dim=1))]))\n",
        "model"
      ],
      "execution_count": 19,
      "outputs": [
        {
          "output_type": "execute_result",
          "data": {
            "text/plain": [
              "Sequential(\n",
              "  (fc1): Linear(in_features=784, out_features=128, bias=True)\n",
              "  (relu1): ReLU()\n",
              "  (fc2): Linear(in_features=128, out_features=64, bias=True)\n",
              "  (relu2): ReLU()\n",
              "  (output): Linear(in_features=64, out_features=10, bias=True)\n",
              "  (softmax): Softmax(dim=1)\n",
              ")"
            ]
          },
          "metadata": {
            "tags": []
          },
          "execution_count": 19
        }
      ]
    },
    {
      "cell_type": "markdown",
      "metadata": {
        "id": "wCmwHsfH6mEQ",
        "colab_type": "text"
      },
      "source": [
        "Now you can access layers either by integer or the name"
      ]
    },
    {
      "cell_type": "code",
      "metadata": {
        "id": "bd52OnLS6mER",
        "colab_type": "code",
        "outputId": "7e86500d-7db2-4ae6-e5c2-8b859f31dd0e",
        "colab": {
          "base_uri": "https://localhost:8080/",
          "height": 51
        }
      },
      "source": [
        "print(model[0])\n",
        "print(model.fc1)"
      ],
      "execution_count": 20,
      "outputs": [
        {
          "output_type": "stream",
          "text": [
            "Linear(in_features=784, out_features=128, bias=True)\n",
            "Linear(in_features=784, out_features=128, bias=True)\n"
          ],
          "name": "stdout"
        }
      ]
    },
    {
      "cell_type": "markdown",
      "metadata": {
        "id": "ZKjgWa-a6mEW",
        "colab_type": "text"
      },
      "source": [
        "In the next notebook, we'll see how we can train a neural network to accuractly predict the numbers appearing in the MNIST images."
      ]
    }
  ]
}